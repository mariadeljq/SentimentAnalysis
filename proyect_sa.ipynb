{
  "cells": [
    {
      "cell_type": "markdown",
      "source": [
        "# Introducción\n",
        "\n",
        "En este proyecto construiremos un modelo de aprendizaje automático para realizar análisis de sentimientos, utilizando  un subconjunto de clasificación de texto donde la tarea es detectar si una oración dada es positiva, neutral o negativa, utilizando [PyTorch](https://github.com/pytorch/pytorch) y [torchtext](https://github.com/pytorch/text).\n",
        "\n",
        "\n",
        "Se utilizará uno de los modelos más básicos para NLP (natural language processing / procesamiento del lenguaje natural): un modelo NBoW (neural bag-of-words / bolsa neuronal de palabras). El modelo NBoW es un modelo básico sólido y de uso común para las tareas de NLP.\n",
        "\n",
        "![](https://github.com/bentrevett/pytorch-sentiment-analysis/blob/master/assets/nbow_model.png?raw=1)"
      ],
      "metadata": {
        "id": "ykQfsUpjL25D"
      },
      "id": "ykQfsUpjL25D"
    },
    {
      "cell_type": "markdown",
      "id": "a36e41e8",
      "metadata": {
        "id": "a36e41e8"
      },
      "source": [
        "# Desarrollo del proyecto\n",
        "\n",
        "\n"
      ]
    },
    {
      "cell_type": "markdown",
      "source": [
        "\n",
        "## Preparación de datos *\n",
        "\n",
        "Antes de que implementemos nuestro modelo NBow, primero tenemos que realizar ciertos pasos para tener nuestros datos de la forma idónea.\n",
        "\n",
        "Los pasos de los que va a constar este proyecto es:\n",
        "  1. Importar paquetes y módulos\n",
        "  2. Cargar los datos\n",
        "  3. \"Tokenizar\" los datos\n",
        "  4. Crear las separaciones de datos\n",
        "  5. Crear un vocabulario\n",
        "  6. Numerización de datos\n",
        "  7. Creación de \"dataloaders\"\n",
        "  8. Creación de las funciones de entrenamiento y validación\n",
        "  9. Pruebas de predicción de sentimientos"
      ],
      "metadata": {
        "id": "U3fVOnT7mEH_"
      },
      "id": "U3fVOnT7mEH_"
    },
    {
      "cell_type": "markdown",
      "source": [
        "## Importar paquetes y módulos (1)\n",
        "\n",
        "Primero vamos a instalar el paquete datasets y después importamos los módulos.\n"
      ],
      "metadata": {
        "id": "k7U01_mhl_VX"
      },
      "id": "k7U01_mhl_VX"
    },
    {
      "cell_type": "code",
      "source": [
        "## en el caso de que no esté instalado datasets:\n",
        "!pip install datasets"
      ],
      "metadata": {
        "id": "iDYLxrP4MnCE",
        "outputId": "b77c465c-893b-4cdb-c5e3-aa2290ba3cc6",
        "colab": {
          "base_uri": "https://localhost:8080/"
        }
      },
      "id": "iDYLxrP4MnCE",
      "execution_count": null,
      "outputs": [
        {
          "output_type": "stream",
          "name": "stdout",
          "text": [
            "Looking in indexes: https://pypi.org/simple, https://us-python.pkg.dev/colab-wheels/public/simple/\n",
            "Collecting datasets\n",
            "  Downloading datasets-2.12.0-py3-none-any.whl (474 kB)\n",
            "\u001b[2K     \u001b[90m━━━━━━━━━━━━━━━━━━━━━━━━━━━━━━━━━━━━━━\u001b[0m \u001b[32m474.6/474.6 kB\u001b[0m \u001b[31m10.0 MB/s\u001b[0m eta \u001b[36m0:00:00\u001b[0m\n",
            "\u001b[?25hRequirement already satisfied: numpy>=1.17 in /usr/local/lib/python3.10/dist-packages (from datasets) (1.22.4)\n",
            "Requirement already satisfied: pyarrow>=8.0.0 in /usr/local/lib/python3.10/dist-packages (from datasets) (9.0.0)\n",
            "Collecting dill<0.3.7,>=0.3.0 (from datasets)\n",
            "  Downloading dill-0.3.6-py3-none-any.whl (110 kB)\n",
            "\u001b[2K     \u001b[90m━━━━━━━━━━━━━━━━━━━━━━━━━━━━━━━━━━━━━━\u001b[0m \u001b[32m110.5/110.5 kB\u001b[0m \u001b[31m11.6 MB/s\u001b[0m eta \u001b[36m0:00:00\u001b[0m\n",
            "\u001b[?25hRequirement already satisfied: pandas in /usr/local/lib/python3.10/dist-packages (from datasets) (1.5.3)\n",
            "Requirement already satisfied: requests>=2.19.0 in /usr/local/lib/python3.10/dist-packages (from datasets) (2.27.1)\n",
            "Requirement already satisfied: tqdm>=4.62.1 in /usr/local/lib/python3.10/dist-packages (from datasets) (4.65.0)\n",
            "Collecting xxhash (from datasets)\n",
            "  Downloading xxhash-3.2.0-cp310-cp310-manylinux_2_17_x86_64.manylinux2014_x86_64.whl (212 kB)\n",
            "\u001b[2K     \u001b[90m━━━━━━━━━━━━━━━━━━━━━━━━━━━━━━━━━━━━━━\u001b[0m \u001b[32m212.5/212.5 kB\u001b[0m \u001b[31m18.9 MB/s\u001b[0m eta \u001b[36m0:00:00\u001b[0m\n",
            "\u001b[?25hCollecting multiprocess (from datasets)\n",
            "  Downloading multiprocess-0.70.14-py310-none-any.whl (134 kB)\n",
            "\u001b[2K     \u001b[90m━━━━━━━━━━━━━━━━━━━━━━━━━━━━━━━━━━━━━━\u001b[0m \u001b[32m134.3/134.3 kB\u001b[0m \u001b[31m13.1 MB/s\u001b[0m eta \u001b[36m0:00:00\u001b[0m\n",
            "\u001b[?25hRequirement already satisfied: fsspec[http]>=2021.11.1 in /usr/local/lib/python3.10/dist-packages (from datasets) (2023.4.0)\n",
            "Collecting aiohttp (from datasets)\n",
            "  Downloading aiohttp-3.8.4-cp310-cp310-manylinux_2_17_x86_64.manylinux2014_x86_64.whl (1.0 MB)\n",
            "\u001b[2K     \u001b[90m━━━━━━━━━━━━━━━━━━━━━━━━━━━━━━━━━━━━━━━━\u001b[0m \u001b[32m1.0/1.0 MB\u001b[0m \u001b[31m26.9 MB/s\u001b[0m eta \u001b[36m0:00:00\u001b[0m\n",
            "\u001b[?25hCollecting huggingface-hub<1.0.0,>=0.11.0 (from datasets)\n",
            "  Downloading huggingface_hub-0.14.1-py3-none-any.whl (224 kB)\n",
            "\u001b[2K     \u001b[90m━━━━━━━━━━━━━━━━━━━━━━━━━━━━━━━━━━━━━━\u001b[0m \u001b[32m224.5/224.5 kB\u001b[0m \u001b[31m17.7 MB/s\u001b[0m eta \u001b[36m0:00:00\u001b[0m\n",
            "\u001b[?25hRequirement already satisfied: packaging in /usr/local/lib/python3.10/dist-packages (from datasets) (23.1)\n",
            "Collecting responses<0.19 (from datasets)\n",
            "  Downloading responses-0.18.0-py3-none-any.whl (38 kB)\n",
            "Requirement already satisfied: pyyaml>=5.1 in /usr/local/lib/python3.10/dist-packages (from datasets) (6.0)\n",
            "Requirement already satisfied: attrs>=17.3.0 in /usr/local/lib/python3.10/dist-packages (from aiohttp->datasets) (23.1.0)\n",
            "Requirement already satisfied: charset-normalizer<4.0,>=2.0 in /usr/local/lib/python3.10/dist-packages (from aiohttp->datasets) (2.0.12)\n",
            "Collecting multidict<7.0,>=4.5 (from aiohttp->datasets)\n",
            "  Downloading multidict-6.0.4-cp310-cp310-manylinux_2_17_x86_64.manylinux2014_x86_64.whl (114 kB)\n",
            "\u001b[2K     \u001b[90m━━━━━━━━━━━━━━━━━━━━━━━━━━━━━━━━━━━━━━\u001b[0m \u001b[32m114.5/114.5 kB\u001b[0m \u001b[31m11.4 MB/s\u001b[0m eta \u001b[36m0:00:00\u001b[0m\n",
            "\u001b[?25hCollecting async-timeout<5.0,>=4.0.0a3 (from aiohttp->datasets)\n",
            "  Downloading async_timeout-4.0.2-py3-none-any.whl (5.8 kB)\n",
            "Collecting yarl<2.0,>=1.0 (from aiohttp->datasets)\n",
            "  Downloading yarl-1.9.2-cp310-cp310-manylinux_2_17_x86_64.manylinux2014_x86_64.whl (268 kB)\n",
            "\u001b[2K     \u001b[90m━━━━━━━━━━━━━━━━━━━━━━━━━━━━━━━━━━━━━━\u001b[0m \u001b[32m268.8/268.8 kB\u001b[0m \u001b[31m23.0 MB/s\u001b[0m eta \u001b[36m0:00:00\u001b[0m\n",
            "\u001b[?25hCollecting frozenlist>=1.1.1 (from aiohttp->datasets)\n",
            "  Downloading frozenlist-1.3.3-cp310-cp310-manylinux_2_5_x86_64.manylinux1_x86_64.manylinux_2_17_x86_64.manylinux2014_x86_64.whl (149 kB)\n",
            "\u001b[2K     \u001b[90m━━━━━━━━━━━━━━━━━━━━━━━━━━━━━━━━━━━━━━\u001b[0m \u001b[32m149.6/149.6 kB\u001b[0m \u001b[31m14.8 MB/s\u001b[0m eta \u001b[36m0:00:00\u001b[0m\n",
            "\u001b[?25hCollecting aiosignal>=1.1.2 (from aiohttp->datasets)\n",
            "  Downloading aiosignal-1.3.1-py3-none-any.whl (7.6 kB)\n",
            "Requirement already satisfied: filelock in /usr/local/lib/python3.10/dist-packages (from huggingface-hub<1.0.0,>=0.11.0->datasets) (3.12.0)\n",
            "Requirement already satisfied: typing-extensions>=3.7.4.3 in /usr/local/lib/python3.10/dist-packages (from huggingface-hub<1.0.0,>=0.11.0->datasets) (4.5.0)\n",
            "Requirement already satisfied: urllib3<1.27,>=1.21.1 in /usr/local/lib/python3.10/dist-packages (from requests>=2.19.0->datasets) (1.26.15)\n",
            "Requirement already satisfied: certifi>=2017.4.17 in /usr/local/lib/python3.10/dist-packages (from requests>=2.19.0->datasets) (2022.12.7)\n",
            "Requirement already satisfied: idna<4,>=2.5 in /usr/local/lib/python3.10/dist-packages (from requests>=2.19.0->datasets) (3.4)\n",
            "Requirement already satisfied: python-dateutil>=2.8.1 in /usr/local/lib/python3.10/dist-packages (from pandas->datasets) (2.8.2)\n",
            "Requirement already satisfied: pytz>=2020.1 in /usr/local/lib/python3.10/dist-packages (from pandas->datasets) (2022.7.1)\n",
            "Requirement already satisfied: six>=1.5 in /usr/local/lib/python3.10/dist-packages (from python-dateutil>=2.8.1->pandas->datasets) (1.16.0)\n",
            "Installing collected packages: xxhash, multidict, frozenlist, dill, async-timeout, yarl, responses, multiprocess, huggingface-hub, aiosignal, aiohttp, datasets\n",
            "Successfully installed aiohttp-3.8.4 aiosignal-1.3.1 async-timeout-4.0.2 datasets-2.12.0 dill-0.3.6 frozenlist-1.3.3 huggingface-hub-0.14.1 multidict-6.0.4 multiprocess-0.70.14 responses-0.18.0 xxhash-3.2.0 yarl-1.9.2\n"
          ]
        }
      ]
    },
    {
      "cell_type": "code",
      "execution_count": null,
      "id": "e322bd29",
      "metadata": {
        "id": "e322bd29"
      },
      "outputs": [],
      "source": [
        "import functools\n",
        "import sys\n",
        "import datasets\n",
        "import matplotlib.pyplot as plt\n",
        "import numpy as np\n",
        "import torch\n",
        "import torch.nn as nn\n",
        "import torch.optim as optim\n",
        "import torchtext\n",
        "import tqdm\n",
        "import seaborn as sns\n",
        "import pandas as pd\n",
        "import re\n",
        "import math\n",
        "\n",
        "from torch.utils.data import TensorDataset\n"
      ]
    },
    {
      "cell_type": "code",
      "execution_count": null,
      "id": "fcc98ce9",
      "metadata": {
        "id": "fcc98ce9"
      },
      "outputs": [],
      "source": [
        "seed = 0\n",
        "\n",
        "torch.manual_seed(seed)\n",
        "np.random.seed(seed)"
      ]
    },
    {
      "cell_type": "markdown",
      "source": [
        "## Cargar los datos (2)\n",
        "\n"
      ],
      "metadata": {
        "id": "UeKTE1dgkY9X"
      },
      "id": "UeKTE1dgkY9X"
    },
    {
      "cell_type": "markdown",
      "source": [
        "Vamos a cargar los datos, en mi caso es un Excel.\n",
        "\n",
        "Este excel está ubicado en el repositorio de [GitHub](https://github.com/mariadeljq/SentimentAnalysis) del proyecto.\n",
        "\n",
        "Lo vamos a leer con el paquete de Pandas y vamos a crear un Dataframe con las columnas de texto y sentimiento"
      ],
      "metadata": {
        "id": "ttWiQtFrEGoE"
      },
      "id": "ttWiQtFrEGoE"
    },
    {
      "cell_type": "code",
      "execution_count": null,
      "id": "798f5387",
      "metadata": {
        "id": "798f5387"
      },
      "outputs": [],
      "source": [
        "## para poner mi dataset\n",
        "#file_path = '/content/drive/MyDrive/sentiment_analysis/dataset.csv' en caso de que queramos usar el .csv\n",
        "#data_csv = pd.read_csv(file_path)\n",
        "\n",
        "#fp_xlsx = '/content/drive/MyDrive/sentiment_analysis/dataset.xlsx'\n",
        "fp_xlsx = 'https://github.com/mariadeljq/SentimentAnalysis/blob/main/dataset.xlsx?raw=1'\n",
        "data = pd.read_excel(fp_xlsx)\n"
      ]
    },
    {
      "cell_type": "code",
      "source": [
        "## vamos a convertir este excel en un DataFrame con las columnas correspondientes\n",
        "# el archivo Excel tiene columnas 'textID', 'text', 'selected_text' y 'sentiment'\n",
        "textID = data['Column1'].tolist()\n",
        "text = data['Column2'].tolist()\n",
        "selected_text = data['Column3'].tolist()\n",
        "sentiment = data['Column4'].tolist()\n",
        "\n",
        "# Crear un nuevo DataFrame con las columnas extraídas\n",
        "dataset = pd.DataFrame({ # solo queremos estas dos\n",
        "    'text': text,\n",
        "    'sentiment' : sentiment,\n",
        "})\n",
        "\n",
        "dataset.head()"
      ],
      "metadata": {
        "colab": {
          "base_uri": "https://localhost:8080/",
          "height": 206
        },
        "id": "FjLdoqnjaQIo",
        "outputId": "5e9dd5c9-c628-4aae-b941-5a62c8110673"
      },
      "id": "FjLdoqnjaQIo",
      "execution_count": null,
      "outputs": [
        {
          "output_type": "execute_result",
          "data": {
            "text/plain": [
              "                                             text  sentiment\n",
              "0                                            text  sentiment\n",
              "1             I`d have responded, if I were going    neutral\n",
              "2   Sooo SAD I will miss you here in San Diego!!!   negative\n",
              "3                       my boss is bullying me...   negative\n",
              "4                  what interview! leave me alone   negative"
            ],
            "text/html": [
              "\n",
              "  <div id=\"df-38151864-8b1c-492c-acae-d72036662e57\">\n",
              "    <div class=\"colab-df-container\">\n",
              "      <div>\n",
              "<style scoped>\n",
              "    .dataframe tbody tr th:only-of-type {\n",
              "        vertical-align: middle;\n",
              "    }\n",
              "\n",
              "    .dataframe tbody tr th {\n",
              "        vertical-align: top;\n",
              "    }\n",
              "\n",
              "    .dataframe thead th {\n",
              "        text-align: right;\n",
              "    }\n",
              "</style>\n",
              "<table border=\"1\" class=\"dataframe\">\n",
              "  <thead>\n",
              "    <tr style=\"text-align: right;\">\n",
              "      <th></th>\n",
              "      <th>text</th>\n",
              "      <th>sentiment</th>\n",
              "    </tr>\n",
              "  </thead>\n",
              "  <tbody>\n",
              "    <tr>\n",
              "      <th>0</th>\n",
              "      <td>text</td>\n",
              "      <td>sentiment</td>\n",
              "    </tr>\n",
              "    <tr>\n",
              "      <th>1</th>\n",
              "      <td>I`d have responded, if I were going</td>\n",
              "      <td>neutral</td>\n",
              "    </tr>\n",
              "    <tr>\n",
              "      <th>2</th>\n",
              "      <td>Sooo SAD I will miss you here in San Diego!!!</td>\n",
              "      <td>negative</td>\n",
              "    </tr>\n",
              "    <tr>\n",
              "      <th>3</th>\n",
              "      <td>my boss is bullying me...</td>\n",
              "      <td>negative</td>\n",
              "    </tr>\n",
              "    <tr>\n",
              "      <th>4</th>\n",
              "      <td>what interview! leave me alone</td>\n",
              "      <td>negative</td>\n",
              "    </tr>\n",
              "  </tbody>\n",
              "</table>\n",
              "</div>\n",
              "      <button class=\"colab-df-convert\" onclick=\"convertToInteractive('df-38151864-8b1c-492c-acae-d72036662e57')\"\n",
              "              title=\"Convert this dataframe to an interactive table.\"\n",
              "              style=\"display:none;\">\n",
              "        \n",
              "  <svg xmlns=\"http://www.w3.org/2000/svg\" height=\"24px\"viewBox=\"0 0 24 24\"\n",
              "       width=\"24px\">\n",
              "    <path d=\"M0 0h24v24H0V0z\" fill=\"none\"/>\n",
              "    <path d=\"M18.56 5.44l.94 2.06.94-2.06 2.06-.94-2.06-.94-.94-2.06-.94 2.06-2.06.94zm-11 1L8.5 8.5l.94-2.06 2.06-.94-2.06-.94L8.5 2.5l-.94 2.06-2.06.94zm10 10l.94 2.06.94-2.06 2.06-.94-2.06-.94-.94-2.06-.94 2.06-2.06.94z\"/><path d=\"M17.41 7.96l-1.37-1.37c-.4-.4-.92-.59-1.43-.59-.52 0-1.04.2-1.43.59L10.3 9.45l-7.72 7.72c-.78.78-.78 2.05 0 2.83L4 21.41c.39.39.9.59 1.41.59.51 0 1.02-.2 1.41-.59l7.78-7.78 2.81-2.81c.8-.78.8-2.07 0-2.86zM5.41 20L4 18.59l7.72-7.72 1.47 1.35L5.41 20z\"/>\n",
              "  </svg>\n",
              "      </button>\n",
              "      \n",
              "  <style>\n",
              "    .colab-df-container {\n",
              "      display:flex;\n",
              "      flex-wrap:wrap;\n",
              "      gap: 12px;\n",
              "    }\n",
              "\n",
              "    .colab-df-convert {\n",
              "      background-color: #E8F0FE;\n",
              "      border: none;\n",
              "      border-radius: 50%;\n",
              "      cursor: pointer;\n",
              "      display: none;\n",
              "      fill: #1967D2;\n",
              "      height: 32px;\n",
              "      padding: 0 0 0 0;\n",
              "      width: 32px;\n",
              "    }\n",
              "\n",
              "    .colab-df-convert:hover {\n",
              "      background-color: #E2EBFA;\n",
              "      box-shadow: 0px 1px 2px rgba(60, 64, 67, 0.3), 0px 1px 3px 1px rgba(60, 64, 67, 0.15);\n",
              "      fill: #174EA6;\n",
              "    }\n",
              "\n",
              "    [theme=dark] .colab-df-convert {\n",
              "      background-color: #3B4455;\n",
              "      fill: #D2E3FC;\n",
              "    }\n",
              "\n",
              "    [theme=dark] .colab-df-convert:hover {\n",
              "      background-color: #434B5C;\n",
              "      box-shadow: 0px 1px 3px 1px rgba(0, 0, 0, 0.15);\n",
              "      filter: drop-shadow(0px 1px 2px rgba(0, 0, 0, 0.3));\n",
              "      fill: #FFFFFF;\n",
              "    }\n",
              "  </style>\n",
              "\n",
              "      <script>\n",
              "        const buttonEl =\n",
              "          document.querySelector('#df-38151864-8b1c-492c-acae-d72036662e57 button.colab-df-convert');\n",
              "        buttonEl.style.display =\n",
              "          google.colab.kernel.accessAllowed ? 'block' : 'none';\n",
              "\n",
              "        async function convertToInteractive(key) {\n",
              "          const element = document.querySelector('#df-38151864-8b1c-492c-acae-d72036662e57');\n",
              "          const dataTable =\n",
              "            await google.colab.kernel.invokeFunction('convertToInteractive',\n",
              "                                                     [key], {});\n",
              "          if (!dataTable) return;\n",
              "\n",
              "          const docLinkHtml = 'Like what you see? Visit the ' +\n",
              "            '<a target=\"_blank\" href=https://colab.research.google.com/notebooks/data_table.ipynb>data table notebook</a>'\n",
              "            + ' to learn more about interactive tables.';\n",
              "          element.innerHTML = '';\n",
              "          dataTable['output_type'] = 'display_data';\n",
              "          await google.colab.output.renderOutput(dataTable, element);\n",
              "          const docLink = document.createElement('div');\n",
              "          docLink.innerHTML = docLinkHtml;\n",
              "          element.appendChild(docLink);\n",
              "        }\n",
              "      </script>\n",
              "    </div>\n",
              "  </div>\n",
              "  "
            ]
          },
          "metadata": {},
          "execution_count": 128
        }
      ]
    },
    {
      "cell_type": "markdown",
      "source": [
        "Comprobamos lo que hemos generado.\n",
        "\n",
        "Para acceder a los elementos individuales de un DataFrame en pandas, puedes utilizar diferentes métodos según tus necesidades.\n",
        "\n",
        "* Acceder a un elemento específico por índice de fila y nombre de columna:\n",
        "\n",
        "    valor = dataset.loc[fil_index, 'nombre_columna']\n",
        "\n",
        "* Acceder a un elemento específico por índice de fila y posición de columna:\n",
        "\n",
        "    valor = dataset.iloc[fil_index, col_index]\n",
        "\n",
        "* Acceder a una fila completa por índice de fila:\n",
        "\n",
        "    fila = dataset.loc[fil_index]\n",
        "\n",
        "* Acceder a una columna completa por nombre de columna:\n",
        "\n",
        "    columna = dataset['nombre_columna']"
      ],
      "metadata": {
        "id": "bx9af1_fEf-y"
      },
      "id": "bx9af1_fEf-y"
    },
    {
      "cell_type": "code",
      "source": [
        "# split en train/test split\n",
        "dataset = dataset[1:] # quitamos la primera fila porque contiene el nombre de las columnas\n",
        "\n",
        "dataset.iloc[0,0]\n"
      ],
      "metadata": {
        "colab": {
          "base_uri": "https://localhost:8080/",
          "height": 36
        },
        "id": "GGR-QbsVQEEF",
        "outputId": "65d09dee-8968-4be9-ed17-efdd51b1183d"
      },
      "id": "GGR-QbsVQEEF",
      "execution_count": null,
      "outputs": [
        {
          "output_type": "execute_result",
          "data": {
            "text/plain": [
              "' I`d have responded, if I were going'"
            ],
            "application/vnd.google.colaboratory.intrinsic+json": {
              "type": "string"
            }
          },
          "metadata": {},
          "execution_count": 21
        }
      ]
    },
    {
      "cell_type": "code",
      "source": [
        "## comprobamos que la primera fila con los nombres de las columnas ahora no está como fila\n",
        "dataset.head()"
      ],
      "metadata": {
        "colab": {
          "base_uri": "https://localhost:8080/",
          "height": 206
        },
        "id": "FI_rzBw8dK9i",
        "outputId": "81734ada-1253-4981-b80d-071e84d8166b"
      },
      "id": "FI_rzBw8dK9i",
      "execution_count": null,
      "outputs": [
        {
          "output_type": "execute_result",
          "data": {
            "text/plain": [
              "                                                text sentiment\n",
              "1                I`d have responded, if I were going   neutral\n",
              "2      Sooo SAD I will miss you here in San Diego!!!  negative\n",
              "3                          my boss is bullying me...  negative\n",
              "4                     what interview! leave me alone  negative\n",
              "5   Sons of ****, why couldn`t they put them on t...  negative"
            ],
            "text/html": [
              "\n",
              "  <div id=\"df-fe83fbb0-3863-4d82-aac6-760ab011049d\">\n",
              "    <div class=\"colab-df-container\">\n",
              "      <div>\n",
              "<style scoped>\n",
              "    .dataframe tbody tr th:only-of-type {\n",
              "        vertical-align: middle;\n",
              "    }\n",
              "\n",
              "    .dataframe tbody tr th {\n",
              "        vertical-align: top;\n",
              "    }\n",
              "\n",
              "    .dataframe thead th {\n",
              "        text-align: right;\n",
              "    }\n",
              "</style>\n",
              "<table border=\"1\" class=\"dataframe\">\n",
              "  <thead>\n",
              "    <tr style=\"text-align: right;\">\n",
              "      <th></th>\n",
              "      <th>text</th>\n",
              "      <th>sentiment</th>\n",
              "    </tr>\n",
              "  </thead>\n",
              "  <tbody>\n",
              "    <tr>\n",
              "      <th>1</th>\n",
              "      <td>I`d have responded, if I were going</td>\n",
              "      <td>neutral</td>\n",
              "    </tr>\n",
              "    <tr>\n",
              "      <th>2</th>\n",
              "      <td>Sooo SAD I will miss you here in San Diego!!!</td>\n",
              "      <td>negative</td>\n",
              "    </tr>\n",
              "    <tr>\n",
              "      <th>3</th>\n",
              "      <td>my boss is bullying me...</td>\n",
              "      <td>negative</td>\n",
              "    </tr>\n",
              "    <tr>\n",
              "      <th>4</th>\n",
              "      <td>what interview! leave me alone</td>\n",
              "      <td>negative</td>\n",
              "    </tr>\n",
              "    <tr>\n",
              "      <th>5</th>\n",
              "      <td>Sons of ****, why couldn`t they put them on t...</td>\n",
              "      <td>negative</td>\n",
              "    </tr>\n",
              "  </tbody>\n",
              "</table>\n",
              "</div>\n",
              "      <button class=\"colab-df-convert\" onclick=\"convertToInteractive('df-fe83fbb0-3863-4d82-aac6-760ab011049d')\"\n",
              "              title=\"Convert this dataframe to an interactive table.\"\n",
              "              style=\"display:none;\">\n",
              "        \n",
              "  <svg xmlns=\"http://www.w3.org/2000/svg\" height=\"24px\"viewBox=\"0 0 24 24\"\n",
              "       width=\"24px\">\n",
              "    <path d=\"M0 0h24v24H0V0z\" fill=\"none\"/>\n",
              "    <path d=\"M18.56 5.44l.94 2.06.94-2.06 2.06-.94-2.06-.94-.94-2.06-.94 2.06-2.06.94zm-11 1L8.5 8.5l.94-2.06 2.06-.94-2.06-.94L8.5 2.5l-.94 2.06-2.06.94zm10 10l.94 2.06.94-2.06 2.06-.94-2.06-.94-.94-2.06-.94 2.06-2.06.94z\"/><path d=\"M17.41 7.96l-1.37-1.37c-.4-.4-.92-.59-1.43-.59-.52 0-1.04.2-1.43.59L10.3 9.45l-7.72 7.72c-.78.78-.78 2.05 0 2.83L4 21.41c.39.39.9.59 1.41.59.51 0 1.02-.2 1.41-.59l7.78-7.78 2.81-2.81c.8-.78.8-2.07 0-2.86zM5.41 20L4 18.59l7.72-7.72 1.47 1.35L5.41 20z\"/>\n",
              "  </svg>\n",
              "      </button>\n",
              "      \n",
              "  <style>\n",
              "    .colab-df-container {\n",
              "      display:flex;\n",
              "      flex-wrap:wrap;\n",
              "      gap: 12px;\n",
              "    }\n",
              "\n",
              "    .colab-df-convert {\n",
              "      background-color: #E8F0FE;\n",
              "      border: none;\n",
              "      border-radius: 50%;\n",
              "      cursor: pointer;\n",
              "      display: none;\n",
              "      fill: #1967D2;\n",
              "      height: 32px;\n",
              "      padding: 0 0 0 0;\n",
              "      width: 32px;\n",
              "    }\n",
              "\n",
              "    .colab-df-convert:hover {\n",
              "      background-color: #E2EBFA;\n",
              "      box-shadow: 0px 1px 2px rgba(60, 64, 67, 0.3), 0px 1px 3px 1px rgba(60, 64, 67, 0.15);\n",
              "      fill: #174EA6;\n",
              "    }\n",
              "\n",
              "    [theme=dark] .colab-df-convert {\n",
              "      background-color: #3B4455;\n",
              "      fill: #D2E3FC;\n",
              "    }\n",
              "\n",
              "    [theme=dark] .colab-df-convert:hover {\n",
              "      background-color: #434B5C;\n",
              "      box-shadow: 0px 1px 3px 1px rgba(0, 0, 0, 0.15);\n",
              "      filter: drop-shadow(0px 1px 2px rgba(0, 0, 0, 0.3));\n",
              "      fill: #FFFFFF;\n",
              "    }\n",
              "  </style>\n",
              "\n",
              "      <script>\n",
              "        const buttonEl =\n",
              "          document.querySelector('#df-fe83fbb0-3863-4d82-aac6-760ab011049d button.colab-df-convert');\n",
              "        buttonEl.style.display =\n",
              "          google.colab.kernel.accessAllowed ? 'block' : 'none';\n",
              "\n",
              "        async function convertToInteractive(key) {\n",
              "          const element = document.querySelector('#df-fe83fbb0-3863-4d82-aac6-760ab011049d');\n",
              "          const dataTable =\n",
              "            await google.colab.kernel.invokeFunction('convertToInteractive',\n",
              "                                                     [key], {});\n",
              "          if (!dataTable) return;\n",
              "\n",
              "          const docLinkHtml = 'Like what you see? Visit the ' +\n",
              "            '<a target=\"_blank\" href=https://colab.research.google.com/notebooks/data_table.ipynb>data table notebook</a>'\n",
              "            + ' to learn more about interactive tables.';\n",
              "          element.innerHTML = '';\n",
              "          dataTable['output_type'] = 'display_data';\n",
              "          await google.colab.output.renderOutput(dataTable, element);\n",
              "          const docLink = document.createElement('div');\n",
              "          docLink.innerHTML = docLinkHtml;\n",
              "          element.appendChild(docLink);\n",
              "        }\n",
              "      </script>\n",
              "    </div>\n",
              "  </div>\n",
              "  "
            ]
          },
          "metadata": {},
          "execution_count": 22
        }
      ]
    },
    {
      "cell_type": "code",
      "source": [
        "# Eliminar filas con valores no válidos en la columna 'text'\n",
        "dataset = dataset.dropna(subset=['text'])\n",
        "  "
      ],
      "metadata": {
        "id": "uW0L-qwhuywe"
      },
      "id": "uW0L-qwhuywe",
      "execution_count": null,
      "outputs": []
    },
    {
      "cell_type": "code",
      "source": [
        "dd = pd.Series(dataset['sentiment']).value_counts()\n",
        "sns.barplot(x=np.array(['negative','neutral','positive']),y=dd.values)\n",
        "plt.show()"
      ],
      "metadata": {
        "colab": {
          "base_uri": "https://localhost:8080/",
          "height": 430
        },
        "id": "DXPsQdHxqNmn",
        "outputId": "f472f51b-c92e-42ce-dca3-cdb5122d7ab2"
      },
      "id": "DXPsQdHxqNmn",
      "execution_count": null,
      "outputs": [
        {
          "output_type": "display_data",
          "data": {
            "text/plain": [
              "<Figure size 640x480 with 1 Axes>"
            ],
            "image/png": "[encoded data removed]"
          },
          "metadata": {}
        }
      ]
    },
    {
      "cell_type": "markdown",
      "source": [
        "Observamos en la distribución de los sentimientos de los textos que hay mas negativos que neutrales, y más neutrales que positivos"
      ],
      "metadata": {
        "id": "cMAZZiqiElFP"
      },
      "id": "cMAZZiqiElFP"
    },
    {
      "cell_type": "markdown",
      "source": [
        "## \"Tokenizar\" los datos (3)\n"
      ],
      "metadata": {
        "id": "6tTGZ2eOyJp-"
      },
      "id": "6tTGZ2eOyJp-"
    },
    {
      "cell_type": "markdown",
      "source": [
        "Vamos a tokenizar los datos con un tokenizador de inglés básico.\n",
        "\n",
        "El proceso de tokenizar los datos consiste en separar las palabras de un texto, quitando signos de puntuación."
      ],
      "metadata": {
        "id": "WnAcEHO9FP0p"
      },
      "id": "WnAcEHO9FP0p"
    },
    {
      "cell_type": "code",
      "source": [
        "tokenizer = torchtext.data.utils.get_tokenizer(\"basic_english\")"
      ],
      "metadata": {
        "id": "tGKgqOYklDXh"
      },
      "id": "tGKgqOYklDXh",
      "execution_count": null,
      "outputs": []
    },
    {
      "cell_type": "code",
      "source": [
        "  tokenizer(\"Hello world! How are you doing today? I'm doing fantastic!\")"
      ],
      "metadata": {
        "colab": {
          "base_uri": "https://localhost:8080/"
        },
        "id": "r30dlFL4lEnP",
        "outputId": "ff5000db-d657-4a8b-dd50-1787e70e5acf"
      },
      "id": "r30dlFL4lEnP",
      "execution_count": null,
      "outputs": [
        {
          "output_type": "execute_result",
          "data": {
            "text/plain": [
              "['hello',\n",
              " 'world',\n",
              " '!',\n",
              " 'how',\n",
              " 'are',\n",
              " 'you',\n",
              " 'doing',\n",
              " 'today',\n",
              " '?',\n",
              " 'i',\n",
              " \"'\",\n",
              " 'm',\n",
              " 'doing',\n",
              " 'fantastic',\n",
              " '!']"
            ]
          },
          "metadata": {},
          "execution_count": 26
        }
      ]
    },
    {
      "cell_type": "code",
      "source": [
        "# función para que los signos de puntuacion no los ponga en la lista y así evitar informacion indeseada.\n",
        "def clean_text(text):\n",
        "    text = re.sub(r'[^\\w\\s\\d]', '', text) \n",
        "    # todos los caracteres diferentes de palabras \\w o espacio en blanco \\s (necesitamos el espacio en blanco para tokenizar)\n",
        "    # también conservamos números \\d\n",
        "    return text"
      ],
      "metadata": {
        "id": "MIy3uXdS_9ji"
      },
      "id": "MIy3uXdS_9ji",
      "execution_count": null,
      "outputs": []
    },
    {
      "cell_type": "code",
      "source": [
        "dataset['tokens'] = dataset['text'].apply(lambda x: tokenizer(clean_text(x)))"
      ],
      "metadata": {
        "id": "HhcbtuPTpe3c"
      },
      "id": "HhcbtuPTpe3c",
      "execution_count": null,
      "outputs": []
    },
    {
      "cell_type": "code",
      "source": [
        "dataset.head()"
      ],
      "metadata": {
        "id": "iqSo-MWkls_a",
        "colab": {
          "base_uri": "https://localhost:8080/",
          "height": 206
        },
        "outputId": "5357b0a4-f071-4634-b0da-2e0fd00b866c"
      },
      "id": "iqSo-MWkls_a",
      "execution_count": null,
      "outputs": [
        {
          "output_type": "execute_result",
          "data": {
            "text/plain": [
              "                                                text sentiment  \\\n",
              "1                I`d have responded, if I were going   neutral   \n",
              "2      Sooo SAD I will miss you here in San Diego!!!  negative   \n",
              "3                          my boss is bullying me...  negative   \n",
              "4                     what interview! leave me alone  negative   \n",
              "5   Sons of ****, why couldn`t they put them on t...  negative   \n",
              "\n",
              "                                              tokens  \n",
              "1          [id, have, responded, if, i, were, going]  \n",
              "2  [sooo, sad, i, will, miss, you, here, in, san,...  \n",
              "3                       [my, boss, is, bullying, me]  \n",
              "4                [what, interview, leave, me, alone]  \n",
              "5  [sons, of, why, couldnt, they, put, them, on, ...  "
            ],
            "text/html": [
              "\n",
              "  <div id=\"df-3714c03f-afca-4e7a-aa34-bbd2ef0fe7a5\">\n",
              "    <div class=\"colab-df-container\">\n",
              "      <div>\n",
              "<style scoped>\n",
              "    .dataframe tbody tr th:only-of-type {\n",
              "        vertical-align: middle;\n",
              "    }\n",
              "\n",
              "    .dataframe tbody tr th {\n",
              "        vertical-align: top;\n",
              "    }\n",
              "\n",
              "    .dataframe thead th {\n",
              "        text-align: right;\n",
              "    }\n",
              "</style>\n",
              "<table border=\"1\" class=\"dataframe\">\n",
              "  <thead>\n",
              "    <tr style=\"text-align: right;\">\n",
              "      <th></th>\n",
              "      <th>text</th>\n",
              "      <th>sentiment</th>\n",
              "      <th>tokens</th>\n",
              "    </tr>\n",
              "  </thead>\n",
              "  <tbody>\n",
              "    <tr>\n",
              "      <th>1</th>\n",
              "      <td>I`d have responded, if I were going</td>\n",
              "      <td>neutral</td>\n",
              "      <td>[id, have, responded, if, i, were, going]</td>\n",
              "    </tr>\n",
              "    <tr>\n",
              "      <th>2</th>\n",
              "      <td>Sooo SAD I will miss you here in San Diego!!!</td>\n",
              "      <td>negative</td>\n",
              "      <td>[sooo, sad, i, will, miss, you, here, in, san,...</td>\n",
              "    </tr>\n",
              "    <tr>\n",
              "      <th>3</th>\n",
              "      <td>my boss is bullying me...</td>\n",
              "      <td>negative</td>\n",
              "      <td>[my, boss, is, bullying, me]</td>\n",
              "    </tr>\n",
              "    <tr>\n",
              "      <th>4</th>\n",
              "      <td>what interview! leave me alone</td>\n",
              "      <td>negative</td>\n",
              "      <td>[what, interview, leave, me, alone]</td>\n",
              "    </tr>\n",
              "    <tr>\n",
              "      <th>5</th>\n",
              "      <td>Sons of ****, why couldn`t they put them on t...</td>\n",
              "      <td>negative</td>\n",
              "      <td>[sons, of, why, couldnt, they, put, them, on, ...</td>\n",
              "    </tr>\n",
              "  </tbody>\n",
              "</table>\n",
              "</div>\n",
              "      <button class=\"colab-df-convert\" onclick=\"convertToInteractive('df-3714c03f-afca-4e7a-aa34-bbd2ef0fe7a5')\"\n",
              "              title=\"Convert this dataframe to an interactive table.\"\n",
              "              style=\"display:none;\">\n",
              "        \n",
              "  <svg xmlns=\"http://www.w3.org/2000/svg\" height=\"24px\"viewBox=\"0 0 24 24\"\n",
              "       width=\"24px\">\n",
              "    <path d=\"M0 0h24v24H0V0z\" fill=\"none\"/>\n",
              "    <path d=\"M18.56 5.44l.94 2.06.94-2.06 2.06-.94-2.06-.94-.94-2.06-.94 2.06-2.06.94zm-11 1L8.5 8.5l.94-2.06 2.06-.94-2.06-.94L8.5 2.5l-.94 2.06-2.06.94zm10 10l.94 2.06.94-2.06 2.06-.94-2.06-.94-.94-2.06-.94 2.06-2.06.94z\"/><path d=\"M17.41 7.96l-1.37-1.37c-.4-.4-.92-.59-1.43-.59-.52 0-1.04.2-1.43.59L10.3 9.45l-7.72 7.72c-.78.78-.78 2.05 0 2.83L4 21.41c.39.39.9.59 1.41.59.51 0 1.02-.2 1.41-.59l7.78-7.78 2.81-2.81c.8-.78.8-2.07 0-2.86zM5.41 20L4 18.59l7.72-7.72 1.47 1.35L5.41 20z\"/>\n",
              "  </svg>\n",
              "      </button>\n",
              "      \n",
              "  <style>\n",
              "    .colab-df-container {\n",
              "      display:flex;\n",
              "      flex-wrap:wrap;\n",
              "      gap: 12px;\n",
              "    }\n",
              "\n",
              "    .colab-df-convert {\n",
              "      background-color: #E8F0FE;\n",
              "      border: none;\n",
              "      border-radius: 50%;\n",
              "      cursor: pointer;\n",
              "      display: none;\n",
              "      fill: #1967D2;\n",
              "      height: 32px;\n",
              "      padding: 0 0 0 0;\n",
              "      width: 32px;\n",
              "    }\n",
              "\n",
              "    .colab-df-convert:hover {\n",
              "      background-color: #E2EBFA;\n",
              "      box-shadow: 0px 1px 2px rgba(60, 64, 67, 0.3), 0px 1px 3px 1px rgba(60, 64, 67, 0.15);\n",
              "      fill: #174EA6;\n",
              "    }\n",
              "\n",
              "    [theme=dark] .colab-df-convert {\n",
              "      background-color: #3B4455;\n",
              "      fill: #D2E3FC;\n",
              "    }\n",
              "\n",
              "    [theme=dark] .colab-df-convert:hover {\n",
              "      background-color: #434B5C;\n",
              "      box-shadow: 0px 1px 3px 1px rgba(0, 0, 0, 0.15);\n",
              "      filter: drop-shadow(0px 1px 2px rgba(0, 0, 0, 0.3));\n",
              "      fill: #FFFFFF;\n",
              "    }\n",
              "  </style>\n",
              "\n",
              "      <script>\n",
              "        const buttonEl =\n",
              "          document.querySelector('#df-3714c03f-afca-4e7a-aa34-bbd2ef0fe7a5 button.colab-df-convert');\n",
              "        buttonEl.style.display =\n",
              "          google.colab.kernel.accessAllowed ? 'block' : 'none';\n",
              "\n",
              "        async function convertToInteractive(key) {\n",
              "          const element = document.querySelector('#df-3714c03f-afca-4e7a-aa34-bbd2ef0fe7a5');\n",
              "          const dataTable =\n",
              "            await google.colab.kernel.invokeFunction('convertToInteractive',\n",
              "                                                     [key], {});\n",
              "          if (!dataTable) return;\n",
              "\n",
              "          const docLinkHtml = 'Like what you see? Visit the ' +\n",
              "            '<a target=\"_blank\" href=https://colab.research.google.com/notebooks/data_table.ipynb>data table notebook</a>'\n",
              "            + ' to learn more about interactive tables.';\n",
              "          element.innerHTML = '';\n",
              "          dataTable['output_type'] = 'display_data';\n",
              "          await google.colab.output.renderOutput(dataTable, element);\n",
              "          const docLink = document.createElement('div');\n",
              "          docLink.innerHTML = docLinkHtml;\n",
              "          element.appendChild(docLink);\n",
              "        }\n",
              "      </script>\n",
              "    </div>\n",
              "  </div>\n",
              "  "
            ]
          },
          "metadata": {},
          "execution_count": 29
        }
      ]
    },
    {
      "cell_type": "markdown",
      "source": [
        "## Crear las separaciones de datos (4)\n",
        "\n"
      ],
      "metadata": {
        "id": "kVyVwkGU2lw_"
      },
      "id": "kVyVwkGU2lw_"
    },
    {
      "cell_type": "markdown",
      "source": [
        "De todo el contenido de datos, vamos a separarlos en tres partes:\n",
        "* Entrenamiento 64%\n",
        "* Validación 16%\n",
        "* Pruebas 20%\n",
        "\n",
        "El conjunto del entrenamiento es "
      ],
      "metadata": {
        "id": "eRnlXzFYFrnz"
      },
      "id": "eRnlXzFYFrnz"
    },
    {
      "cell_type": "code",
      "source": [
        "## vamos a separar nuestro dataset en entrenamiento y test\n",
        "\n",
        "train_split = int(0.8 * len(dataset)) # 80% para entrenamiento, el 20% restante para el test\n",
        "valid_split = int(0.2*train_split)\n",
        "data_valid = dataset[:valid_split]\n",
        "data_train = dataset[valid_split:train_split] \n",
        "data_test = dataset[train_split:]\n",
        "\n",
        "len(data_train), len(data_valid), len(data_test), len(data_valid) + len(data_train) + len(data_test) == len(dataset) # esto ultimo es para comprobar que no hay ningun dato por ahi perdido\n",
        "\n"
      ],
      "metadata": {
        "id": "MA9o4ffYluVT",
        "colab": {
          "base_uri": "https://localhost:8080/"
        },
        "outputId": "56aab649-cddf-40f0-b5f7-33c0a4a9965b"
      },
      "id": "MA9o4ffYluVT",
      "execution_count": null,
      "outputs": [
        {
          "output_type": "execute_result",
          "data": {
            "text/plain": [
              "(17588, 4396, 5496, True)"
            ]
          },
          "metadata": {},
          "execution_count": 30
        }
      ]
    },
    {
      "cell_type": "code",
      "source": [
        "data_valid.head()"
      ],
      "metadata": {
        "id": "aKNoODTnlufE",
        "colab": {
          "base_uri": "https://localhost:8080/",
          "height": 206
        },
        "outputId": "79c3c014-7798-414b-b674-0bde87e6690e"
      },
      "id": "aKNoODTnlufE",
      "execution_count": null,
      "outputs": [
        {
          "output_type": "execute_result",
          "data": {
            "text/plain": [
              "                                                text sentiment  \\\n",
              "1                I`d have responded, if I were going   neutral   \n",
              "2      Sooo SAD I will miss you here in San Diego!!!  negative   \n",
              "3                          my boss is bullying me...  negative   \n",
              "4                     what interview! leave me alone  negative   \n",
              "5   Sons of ****, why couldn`t they put them on t...  negative   \n",
              "\n",
              "                                              tokens  \n",
              "1          [id, have, responded, if, i, were, going]  \n",
              "2  [sooo, sad, i, will, miss, you, here, in, san,...  \n",
              "3                       [my, boss, is, bullying, me]  \n",
              "4                [what, interview, leave, me, alone]  \n",
              "5  [sons, of, why, couldnt, they, put, them, on, ...  "
            ],
            "text/html": [
              "\n",
              "  <div id=\"df-0f9bade2-4175-424f-9445-4ea7cad9b6a5\">\n",
              "    <div class=\"colab-df-container\">\n",
              "      <div>\n",
              "<style scoped>\n",
              "    .dataframe tbody tr th:only-of-type {\n",
              "        vertical-align: middle;\n",
              "    }\n",
              "\n",
              "    .dataframe tbody tr th {\n",
              "        vertical-align: top;\n",
              "    }\n",
              "\n",
              "    .dataframe thead th {\n",
              "        text-align: right;\n",
              "    }\n",
              "</style>\n",
              "<table border=\"1\" class=\"dataframe\">\n",
              "  <thead>\n",
              "    <tr style=\"text-align: right;\">\n",
              "      <th></th>\n",
              "      <th>text</th>\n",
              "      <th>sentiment</th>\n",
              "      <th>tokens</th>\n",
              "    </tr>\n",
              "  </thead>\n",
              "  <tbody>\n",
              "    <tr>\n",
              "      <th>1</th>\n",
              "      <td>I`d have responded, if I were going</td>\n",
              "      <td>neutral</td>\n",
              "      <td>[id, have, responded, if, i, were, going]</td>\n",
              "    </tr>\n",
              "    <tr>\n",
              "      <th>2</th>\n",
              "      <td>Sooo SAD I will miss you here in San Diego!!!</td>\n",
              "      <td>negative</td>\n",
              "      <td>[sooo, sad, i, will, miss, you, here, in, san,...</td>\n",
              "    </tr>\n",
              "    <tr>\n",
              "      <th>3</th>\n",
              "      <td>my boss is bullying me...</td>\n",
              "      <td>negative</td>\n",
              "      <td>[my, boss, is, bullying, me]</td>\n",
              "    </tr>\n",
              "    <tr>\n",
              "      <th>4</th>\n",
              "      <td>what interview! leave me alone</td>\n",
              "      <td>negative</td>\n",
              "      <td>[what, interview, leave, me, alone]</td>\n",
              "    </tr>\n",
              "    <tr>\n",
              "      <th>5</th>\n",
              "      <td>Sons of ****, why couldn`t they put them on t...</td>\n",
              "      <td>negative</td>\n",
              "      <td>[sons, of, why, couldnt, they, put, them, on, ...</td>\n",
              "    </tr>\n",
              "  </tbody>\n",
              "</table>\n",
              "</div>\n",
              "      <button class=\"colab-df-convert\" onclick=\"convertToInteractive('df-0f9bade2-4175-424f-9445-4ea7cad9b6a5')\"\n",
              "              title=\"Convert this dataframe to an interactive table.\"\n",
              "              style=\"display:none;\">\n",
              "        \n",
              "  <svg xmlns=\"http://www.w3.org/2000/svg\" height=\"24px\"viewBox=\"0 0 24 24\"\n",
              "       width=\"24px\">\n",
              "    <path d=\"M0 0h24v24H0V0z\" fill=\"none\"/>\n",
              "    <path d=\"M18.56 5.44l.94 2.06.94-2.06 2.06-.94-2.06-.94-.94-2.06-.94 2.06-2.06.94zm-11 1L8.5 8.5l.94-2.06 2.06-.94-2.06-.94L8.5 2.5l-.94 2.06-2.06.94zm10 10l.94 2.06.94-2.06 2.06-.94-2.06-.94-.94-2.06-.94 2.06-2.06.94z\"/><path d=\"M17.41 7.96l-1.37-1.37c-.4-.4-.92-.59-1.43-.59-.52 0-1.04.2-1.43.59L10.3 9.45l-7.72 7.72c-.78.78-.78 2.05 0 2.83L4 21.41c.39.39.9.59 1.41.59.51 0 1.02-.2 1.41-.59l7.78-7.78 2.81-2.81c.8-.78.8-2.07 0-2.86zM5.41 20L4 18.59l7.72-7.72 1.47 1.35L5.41 20z\"/>\n",
              "  </svg>\n",
              "      </button>\n",
              "      \n",
              "  <style>\n",
              "    .colab-df-container {\n",
              "      display:flex;\n",
              "      flex-wrap:wrap;\n",
              "      gap: 12px;\n",
              "    }\n",
              "\n",
              "    .colab-df-convert {\n",
              "      background-color: #E8F0FE;\n",
              "      border: none;\n",
              "      border-radius: 50%;\n",
              "      cursor: pointer;\n",
              "      display: none;\n",
              "      fill: #1967D2;\n",
              "      height: 32px;\n",
              "      padding: 0 0 0 0;\n",
              "      width: 32px;\n",
              "    }\n",
              "\n",
              "    .colab-df-convert:hover {\n",
              "      background-color: #E2EBFA;\n",
              "      box-shadow: 0px 1px 2px rgba(60, 64, 67, 0.3), 0px 1px 3px 1px rgba(60, 64, 67, 0.15);\n",
              "      fill: #174EA6;\n",
              "    }\n",
              "\n",
              "    [theme=dark] .colab-df-convert {\n",
              "      background-color: #3B4455;\n",
              "      fill: #D2E3FC;\n",
              "    }\n",
              "\n",
              "    [theme=dark] .colab-df-convert:hover {\n",
              "      background-color: #434B5C;\n",
              "      box-shadow: 0px 1px 3px 1px rgba(0, 0, 0, 0.15);\n",
              "      filter: drop-shadow(0px 1px 2px rgba(0, 0, 0, 0.3));\n",
              "      fill: #FFFFFF;\n",
              "    }\n",
              "  </style>\n",
              "\n",
              "      <script>\n",
              "        const buttonEl =\n",
              "          document.querySelector('#df-0f9bade2-4175-424f-9445-4ea7cad9b6a5 button.colab-df-convert');\n",
              "        buttonEl.style.display =\n",
              "          google.colab.kernel.accessAllowed ? 'block' : 'none';\n",
              "\n",
              "        async function convertToInteractive(key) {\n",
              "          const element = document.querySelector('#df-0f9bade2-4175-424f-9445-4ea7cad9b6a5');\n",
              "          const dataTable =\n",
              "            await google.colab.kernel.invokeFunction('convertToInteractive',\n",
              "                                                     [key], {});\n",
              "          if (!dataTable) return;\n",
              "\n",
              "          const docLinkHtml = 'Like what you see? Visit the ' +\n",
              "            '<a target=\"_blank\" href=https://colab.research.google.com/notebooks/data_table.ipynb>data table notebook</a>'\n",
              "            + ' to learn more about interactive tables.';\n",
              "          element.innerHTML = '';\n",
              "          dataTable['output_type'] = 'display_data';\n",
              "          await google.colab.output.renderOutput(dataTable, element);\n",
              "          const docLink = document.createElement('div');\n",
              "          docLink.innerHTML = docLinkHtml;\n",
              "          element.appendChild(docLink);\n",
              "        }\n",
              "      </script>\n",
              "    </div>\n",
              "  </div>\n",
              "  "
            ]
          },
          "metadata": {},
          "execution_count": 31
        }
      ]
    },
    {
      "cell_type": "code",
      "source": [
        "data_train.head()"
      ],
      "metadata": {
        "colab": {
          "base_uri": "https://localhost:8080/",
          "height": 206
        },
        "id": "HHJmafp4-wXc",
        "outputId": "3d29c079-e201-4b84-a089-b52729d8716c"
      },
      "id": "HHJmafp4-wXc",
      "execution_count": null,
      "outputs": [
        {
          "output_type": "execute_result",
          "data": {
            "text/plain": [
              "                                                   text sentiment  \\\n",
              "4398  Getting all annoyed cos this weekend`s going t...  negative   \n",
              "4399   Yeah ill make sure i keep you updated.. i get...   neutral   \n",
              "4400   http://twitpic.com/5h3ad - And Brazil??? WE L...  positive   \n",
              "4401  _rockett i know! And he laughed at the stupid ...  positive   \n",
              "4402  cleaning cleaning cleaning today then working ...   neutral   \n",
              "\n",
              "                                                 tokens  \n",
              "4398  [getting, all, annoyed, cos, this, weekends, g...  \n",
              "4399  [yeah, ill, make, sure, i, keep, you, updated,...  \n",
              "4400  [httptwitpiccom5h3ad, and, brazil, we, love, y...  \n",
              "4401  [_rockett, i, know, and, he, laughed, at, the,...  \n",
              "4402  [cleaning, cleaning, cleaning, today, then, wo...  "
            ],
            "text/html": [
              "\n",
              "  <div id=\"df-bc17e771-35a4-4285-8bb3-05229376d8c9\">\n",
              "    <div class=\"colab-df-container\">\n",
              "      <div>\n",
              "<style scoped>\n",
              "    .dataframe tbody tr th:only-of-type {\n",
              "        vertical-align: middle;\n",
              "    }\n",
              "\n",
              "    .dataframe tbody tr th {\n",
              "        vertical-align: top;\n",
              "    }\n",
              "\n",
              "    .dataframe thead th {\n",
              "        text-align: right;\n",
              "    }\n",
              "</style>\n",
              "<table border=\"1\" class=\"dataframe\">\n",
              "  <thead>\n",
              "    <tr style=\"text-align: right;\">\n",
              "      <th></th>\n",
              "      <th>text</th>\n",
              "      <th>sentiment</th>\n",
              "      <th>tokens</th>\n",
              "    </tr>\n",
              "  </thead>\n",
              "  <tbody>\n",
              "    <tr>\n",
              "      <th>4398</th>\n",
              "      <td>Getting all annoyed cos this weekend`s going t...</td>\n",
              "      <td>negative</td>\n",
              "      <td>[getting, all, annoyed, cos, this, weekends, g...</td>\n",
              "    </tr>\n",
              "    <tr>\n",
              "      <th>4399</th>\n",
              "      <td>Yeah ill make sure i keep you updated.. i get...</td>\n",
              "      <td>neutral</td>\n",
              "      <td>[yeah, ill, make, sure, i, keep, you, updated,...</td>\n",
              "    </tr>\n",
              "    <tr>\n",
              "      <th>4400</th>\n",
              "      <td>http://twitpic.com/5h3ad - And Brazil??? WE L...</td>\n",
              "      <td>positive</td>\n",
              "      <td>[httptwitpiccom5h3ad, and, brazil, we, love, y...</td>\n",
              "    </tr>\n",
              "    <tr>\n",
              "      <th>4401</th>\n",
              "      <td>_rockett i know! And he laughed at the stupid ...</td>\n",
              "      <td>positive</td>\n",
              "      <td>[_rockett, i, know, and, he, laughed, at, the,...</td>\n",
              "    </tr>\n",
              "    <tr>\n",
              "      <th>4402</th>\n",
              "      <td>cleaning cleaning cleaning today then working ...</td>\n",
              "      <td>neutral</td>\n",
              "      <td>[cleaning, cleaning, cleaning, today, then, wo...</td>\n",
              "    </tr>\n",
              "  </tbody>\n",
              "</table>\n",
              "</div>\n",
              "      <button class=\"colab-df-convert\" onclick=\"convertToInteractive('df-bc17e771-35a4-4285-8bb3-05229376d8c9')\"\n",
              "              title=\"Convert this dataframe to an interactive table.\"\n",
              "              style=\"display:none;\">\n",
              "        \n",
              "  <svg xmlns=\"http://www.w3.org/2000/svg\" height=\"24px\"viewBox=\"0 0 24 24\"\n",
              "       width=\"24px\">\n",
              "    <path d=\"M0 0h24v24H0V0z\" fill=\"none\"/>\n",
              "    <path d=\"M18.56 5.44l.94 2.06.94-2.06 2.06-.94-2.06-.94-.94-2.06-.94 2.06-2.06.94zm-11 1L8.5 8.5l.94-2.06 2.06-.94-2.06-.94L8.5 2.5l-.94 2.06-2.06.94zm10 10l.94 2.06.94-2.06 2.06-.94-2.06-.94-.94-2.06-.94 2.06-2.06.94z\"/><path d=\"M17.41 7.96l-1.37-1.37c-.4-.4-.92-.59-1.43-.59-.52 0-1.04.2-1.43.59L10.3 9.45l-7.72 7.72c-.78.78-.78 2.05 0 2.83L4 21.41c.39.39.9.59 1.41.59.51 0 1.02-.2 1.41-.59l7.78-7.78 2.81-2.81c.8-.78.8-2.07 0-2.86zM5.41 20L4 18.59l7.72-7.72 1.47 1.35L5.41 20z\"/>\n",
              "  </svg>\n",
              "      </button>\n",
              "      \n",
              "  <style>\n",
              "    .colab-df-container {\n",
              "      display:flex;\n",
              "      flex-wrap:wrap;\n",
              "      gap: 12px;\n",
              "    }\n",
              "\n",
              "    .colab-df-convert {\n",
              "      background-color: #E8F0FE;\n",
              "      border: none;\n",
              "      border-radius: 50%;\n",
              "      cursor: pointer;\n",
              "      display: none;\n",
              "      fill: #1967D2;\n",
              "      height: 32px;\n",
              "      padding: 0 0 0 0;\n",
              "      width: 32px;\n",
              "    }\n",
              "\n",
              "    .colab-df-convert:hover {\n",
              "      background-color: #E2EBFA;\n",
              "      box-shadow: 0px 1px 2px rgba(60, 64, 67, 0.3), 0px 1px 3px 1px rgba(60, 64, 67, 0.15);\n",
              "      fill: #174EA6;\n",
              "    }\n",
              "\n",
              "    [theme=dark] .colab-df-convert {\n",
              "      background-color: #3B4455;\n",
              "      fill: #D2E3FC;\n",
              "    }\n",
              "\n",
              "    [theme=dark] .colab-df-convert:hover {\n",
              "      background-color: #434B5C;\n",
              "      box-shadow: 0px 1px 3px 1px rgba(0, 0, 0, 0.15);\n",
              "      filter: drop-shadow(0px 1px 2px rgba(0, 0, 0, 0.3));\n",
              "      fill: #FFFFFF;\n",
              "    }\n",
              "  </style>\n",
              "\n",
              "      <script>\n",
              "        const buttonEl =\n",
              "          document.querySelector('#df-bc17e771-35a4-4285-8bb3-05229376d8c9 button.colab-df-convert');\n",
              "        buttonEl.style.display =\n",
              "          google.colab.kernel.accessAllowed ? 'block' : 'none';\n",
              "\n",
              "        async function convertToInteractive(key) {\n",
              "          const element = document.querySelector('#df-bc17e771-35a4-4285-8bb3-05229376d8c9');\n",
              "          const dataTable =\n",
              "            await google.colab.kernel.invokeFunction('convertToInteractive',\n",
              "                                                     [key], {});\n",
              "          if (!dataTable) return;\n",
              "\n",
              "          const docLinkHtml = 'Like what you see? Visit the ' +\n",
              "            '<a target=\"_blank\" href=https://colab.research.google.com/notebooks/data_table.ipynb>data table notebook</a>'\n",
              "            + ' to learn more about interactive tables.';\n",
              "          element.innerHTML = '';\n",
              "          dataTable['output_type'] = 'display_data';\n",
              "          await google.colab.output.renderOutput(dataTable, element);\n",
              "          const docLink = document.createElement('div');\n",
              "          docLink.innerHTML = docLinkHtml;\n",
              "          element.appendChild(docLink);\n",
              "        }\n",
              "      </script>\n",
              "    </div>\n",
              "  </div>\n",
              "  "
            ]
          },
          "metadata": {},
          "execution_count": 32
        }
      ]
    },
    {
      "cell_type": "code",
      "source": [
        "data_test.head()"
      ],
      "metadata": {
        "colab": {
          "base_uri": "https://localhost:8080/",
          "height": 206
        },
        "id": "fvH4pFm1CIhq",
        "outputId": "384fe57e-3fd9-4b0d-9e7b-21ca2f910b98"
      },
      "id": "fvH4pFm1CIhq",
      "execution_count": null,
      "outputs": [
        {
          "output_type": "execute_result",
          "data": {
            "text/plain": [
              "                                                    text sentiment  \\\n",
              "21986    _JessicaB_**** yip.....aw gonna miss them on bb  negative   \n",
              "21987                             _violence heyyyy babyy  negative   \n",
              "21988  Up at 6am on Sunday... Going to meet my mom fo...   neutral   \n",
              "21989  so the Today show still hasn`t gotten in touch...   neutral   \n",
              "21990  Just checked email and got a follower withb sa...   neutral   \n",
              "\n",
              "                                                  tokens  \n",
              "21986     [_jessicab_, yipaw, gonna, miss, them, on, bb]  \n",
              "21987                         [_violence, heyyyy, babyy]  \n",
              "21988  [up, at, 6am, on, sunday, going, to, meet, my,...  \n",
              "21989  [so, the, today, show, still, hasnt, gotten, i...  \n",
              "21990  [just, checked, email, and, got, a, follower, ...  "
            ],
            "text/html": [
              "\n",
              "  <div id=\"df-6614460b-0965-49dc-b3a2-945e172703b6\">\n",
              "    <div class=\"colab-df-container\">\n",
              "      <div>\n",
              "<style scoped>\n",
              "    .dataframe tbody tr th:only-of-type {\n",
              "        vertical-align: middle;\n",
              "    }\n",
              "\n",
              "    .dataframe tbody tr th {\n",
              "        vertical-align: top;\n",
              "    }\n",
              "\n",
              "    .dataframe thead th {\n",
              "        text-align: right;\n",
              "    }\n",
              "</style>\n",
              "<table border=\"1\" class=\"dataframe\">\n",
              "  <thead>\n",
              "    <tr style=\"text-align: right;\">\n",
              "      <th></th>\n",
              "      <th>text</th>\n",
              "      <th>sentiment</th>\n",
              "      <th>tokens</th>\n",
              "    </tr>\n",
              "  </thead>\n",
              "  <tbody>\n",
              "    <tr>\n",
              "      <th>21986</th>\n",
              "      <td>_JessicaB_**** yip.....aw gonna miss them on bb</td>\n",
              "      <td>negative</td>\n",
              "      <td>[_jessicab_, yipaw, gonna, miss, them, on, bb]</td>\n",
              "    </tr>\n",
              "    <tr>\n",
              "      <th>21987</th>\n",
              "      <td>_violence heyyyy babyy</td>\n",
              "      <td>negative</td>\n",
              "      <td>[_violence, heyyyy, babyy]</td>\n",
              "    </tr>\n",
              "    <tr>\n",
              "      <th>21988</th>\n",
              "      <td>Up at 6am on Sunday... Going to meet my mom fo...</td>\n",
              "      <td>neutral</td>\n",
              "      <td>[up, at, 6am, on, sunday, going, to, meet, my,...</td>\n",
              "    </tr>\n",
              "    <tr>\n",
              "      <th>21989</th>\n",
              "      <td>so the Today show still hasn`t gotten in touch...</td>\n",
              "      <td>neutral</td>\n",
              "      <td>[so, the, today, show, still, hasnt, gotten, i...</td>\n",
              "    </tr>\n",
              "    <tr>\n",
              "      <th>21990</th>\n",
              "      <td>Just checked email and got a follower withb sa...</td>\n",
              "      <td>neutral</td>\n",
              "      <td>[just, checked, email, and, got, a, follower, ...</td>\n",
              "    </tr>\n",
              "  </tbody>\n",
              "</table>\n",
              "</div>\n",
              "      <button class=\"colab-df-convert\" onclick=\"convertToInteractive('df-6614460b-0965-49dc-b3a2-945e172703b6')\"\n",
              "              title=\"Convert this dataframe to an interactive table.\"\n",
              "              style=\"display:none;\">\n",
              "        \n",
              "  <svg xmlns=\"http://www.w3.org/2000/svg\" height=\"24px\"viewBox=\"0 0 24 24\"\n",
              "       width=\"24px\">\n",
              "    <path d=\"M0 0h24v24H0V0z\" fill=\"none\"/>\n",
              "    <path d=\"M18.56 5.44l.94 2.06.94-2.06 2.06-.94-2.06-.94-.94-2.06-.94 2.06-2.06.94zm-11 1L8.5 8.5l.94-2.06 2.06-.94-2.06-.94L8.5 2.5l-.94 2.06-2.06.94zm10 10l.94 2.06.94-2.06 2.06-.94-2.06-.94-.94-2.06-.94 2.06-2.06.94z\"/><path d=\"M17.41 7.96l-1.37-1.37c-.4-.4-.92-.59-1.43-.59-.52 0-1.04.2-1.43.59L10.3 9.45l-7.72 7.72c-.78.78-.78 2.05 0 2.83L4 21.41c.39.39.9.59 1.41.59.51 0 1.02-.2 1.41-.59l7.78-7.78 2.81-2.81c.8-.78.8-2.07 0-2.86zM5.41 20L4 18.59l7.72-7.72 1.47 1.35L5.41 20z\"/>\n",
              "  </svg>\n",
              "      </button>\n",
              "      \n",
              "  <style>\n",
              "    .colab-df-container {\n",
              "      display:flex;\n",
              "      flex-wrap:wrap;\n",
              "      gap: 12px;\n",
              "    }\n",
              "\n",
              "    .colab-df-convert {\n",
              "      background-color: #E8F0FE;\n",
              "      border: none;\n",
              "      border-radius: 50%;\n",
              "      cursor: pointer;\n",
              "      display: none;\n",
              "      fill: #1967D2;\n",
              "      height: 32px;\n",
              "      padding: 0 0 0 0;\n",
              "      width: 32px;\n",
              "    }\n",
              "\n",
              "    .colab-df-convert:hover {\n",
              "      background-color: #E2EBFA;\n",
              "      box-shadow: 0px 1px 2px rgba(60, 64, 67, 0.3), 0px 1px 3px 1px rgba(60, 64, 67, 0.15);\n",
              "      fill: #174EA6;\n",
              "    }\n",
              "\n",
              "    [theme=dark] .colab-df-convert {\n",
              "      background-color: #3B4455;\n",
              "      fill: #D2E3FC;\n",
              "    }\n",
              "\n",
              "    [theme=dark] .colab-df-convert:hover {\n",
              "      background-color: #434B5C;\n",
              "      box-shadow: 0px 1px 3px 1px rgba(0, 0, 0, 0.15);\n",
              "      filter: drop-shadow(0px 1px 2px rgba(0, 0, 0, 0.3));\n",
              "      fill: #FFFFFF;\n",
              "    }\n",
              "  </style>\n",
              "\n",
              "      <script>\n",
              "        const buttonEl =\n",
              "          document.querySelector('#df-6614460b-0965-49dc-b3a2-945e172703b6 button.colab-df-convert');\n",
              "        buttonEl.style.display =\n",
              "          google.colab.kernel.accessAllowed ? 'block' : 'none';\n",
              "\n",
              "        async function convertToInteractive(key) {\n",
              "          const element = document.querySelector('#df-6614460b-0965-49dc-b3a2-945e172703b6');\n",
              "          const dataTable =\n",
              "            await google.colab.kernel.invokeFunction('convertToInteractive',\n",
              "                                                     [key], {});\n",
              "          if (!dataTable) return;\n",
              "\n",
              "          const docLinkHtml = 'Like what you see? Visit the ' +\n",
              "            '<a target=\"_blank\" href=https://colab.research.google.com/notebooks/data_table.ipynb>data table notebook</a>'\n",
              "            + ' to learn more about interactive tables.';\n",
              "          element.innerHTML = '';\n",
              "          dataTable['output_type'] = 'display_data';\n",
              "          await google.colab.output.renderOutput(dataTable, element);\n",
              "          const docLink = document.createElement('div');\n",
              "          docLink.innerHTML = docLinkHtml;\n",
              "          element.appendChild(docLink);\n",
              "        }\n",
              "      </script>\n",
              "    </div>\n",
              "  </div>\n",
              "  "
            ]
          },
          "metadata": {},
          "execution_count": 33
        }
      ]
    },
    {
      "cell_type": "code",
      "source": [
        "## probando a acceder a los datos de los tokens\n",
        "data_valid.loc[5, 'tokens'][:10] # OJO: no tenemos 0, empezamos en 1!!"
      ],
      "metadata": {
        "colab": {
          "base_uri": "https://localhost:8080/"
        },
        "id": "v9VfOALsCsxU",
        "outputId": "a2c3fe95-a7b1-4118-baa6-fe9ec746b542"
      },
      "id": "v9VfOALsCsxU",
      "execution_count": null,
      "outputs": [
        {
          "output_type": "execute_result",
          "data": {
            "text/plain": [
              "['sons',\n",
              " 'of',\n",
              " 'why',\n",
              " 'couldnt',\n",
              " 'they',\n",
              " 'put',\n",
              " 'them',\n",
              " 'on',\n",
              " 'the',\n",
              " 'releases']"
            ]
          },
          "metadata": {},
          "execution_count": 34
        }
      ]
    },
    {
      "cell_type": "code",
      "source": [
        "data_valid['tokens']"
      ],
      "metadata": {
        "colab": {
          "base_uri": "https://localhost:8080/"
        },
        "id": "LPnXm5IzEMq3",
        "outputId": "3281aa59-554d-4487-9853-118ba9a352b1"
      },
      "id": "LPnXm5IzEMq3",
      "execution_count": null,
      "outputs": [
        {
          "output_type": "execute_result",
          "data": {
            "text/plain": [
              "1               [id, have, responded, if, i, were, going]\n",
              "2       [sooo, sad, i, will, miss, you, here, in, san,...\n",
              "3                            [my, boss, is, bullying, me]\n",
              "4                     [what, interview, leave, me, alone]\n",
              "5       [sons, of, why, couldnt, they, put, them, on, ...\n",
              "                              ...                        \n",
              "4393    [brazil, looooooooves, you, i, miss, you, 24th...\n",
              "4394                [_it_good, den, fell, asleep, on, me]\n",
              "4395        [i, tell, him, today, s, its, his, last, day]\n",
              "4396    [_roe, oh, well, ive, never, seen, him, do, an...\n",
              "4397    [chillin, with, the, rents, and, looking, at, ...\n",
              "Name: tokens, Length: 4396, dtype: object"
            ]
          },
          "metadata": {},
          "execution_count": 35
        }
      ]
    },
    {
      "cell_type": "markdown",
      "source": [
        "## Crear un vocabulario (5)\n",
        "\n",
        "\n"
      ],
      "metadata": {
        "id": "q-cOzbEc-zvi"
      },
      "id": "q-cOzbEc-zvi"
    },
    {
      "cell_type": "code",
      "source": [
        "## vamos a ver si tenemos tokens especiales o no\n",
        "\n",
        "special_tokens = ['<unk>', '<pad>'] # estos son los que suelen tener luego\n",
        "\n",
        "# Verificar si la lista contiene tokens especiales\n",
        "if any(token in special_tokens for token in dataset['tokens']):\n",
        "    print(\"La lista contiene tokens especiales.\")\n",
        "else:\n",
        "    print(\"La lista no contiene tokens especiales.\")"
      ],
      "metadata": {
        "id": "1-2whUj7-wfz",
        "colab": {
          "base_uri": "https://localhost:8080/"
        },
        "outputId": "ada9c0d6-bfba-4c72-e89a-41ae511bc60d"
      },
      "id": "1-2whUj7-wfz",
      "execution_count": null,
      "outputs": [
        {
          "output_type": "stream",
          "name": "stdout",
          "text": [
            "La lista no contiene tokens especiales.\n"
          ]
        }
      ]
    },
    {
      "cell_type": "code",
      "source": [
        "vocab = torchtext.vocab.build_vocab_from_iterator(dataset['tokens'], min_freq=1)"
      ],
      "metadata": {
        "id": "tPlXDVKy-woi"
      },
      "id": "tPlXDVKy-woi",
      "execution_count": null,
      "outputs": []
    },
    {
      "cell_type": "code",
      "source": [
        "len(vocab)"
      ],
      "metadata": {
        "id": "DyC0dp97-wvw",
        "colab": {
          "base_uri": "https://localhost:8080/"
        },
        "outputId": "ed0d78a2-5822-4d22-84cf-9af83540c154"
      },
      "id": "DyC0dp97-wvw",
      "execution_count": null,
      "outputs": [
        {
          "output_type": "execute_result",
          "data": {
            "text/plain": [
              "29583"
            ]
          },
          "metadata": {},
          "execution_count": 38
        }
      ]
    },
    {
      "cell_type": "code",
      "source": [
        "vocab.get_itos()[:10]"
      ],
      "metadata": {
        "colab": {
          "base_uri": "https://localhost:8080/"
        },
        "id": "DzqNDx9AYJpQ",
        "outputId": "ec78fd30-312c-47cb-d9d2-4c836cc157d9"
      },
      "id": "DzqNDx9AYJpQ",
      "execution_count": null,
      "outputs": [
        {
          "output_type": "execute_result",
          "data": {
            "text/plain": [
              "['i', 'to', 'the', 'a', 'my', 'and', 'you', 'it', 'is', 'in']"
            ]
          },
          "metadata": {},
          "execution_count": 39
        }
      ]
    },
    {
      "cell_type": "code",
      "source": [
        "# con esta linea podemos comprobar si alguna palabra está en el vocabulario\n",
        "'hate' in vocab, 'fall' in vocab, 'roto' in vocab, 'estoy' in vocab"
      ],
      "metadata": {
        "colab": {
          "base_uri": "https://localhost:8080/"
        },
        "id": "KscMZgojZaYc",
        "outputId": "39ac02eb-5c6b-4c80-934e-0984b3d22223"
      },
      "id": "KscMZgojZaYc",
      "execution_count": null,
      "outputs": [
        {
          "output_type": "execute_result",
          "data": {
            "text/plain": [
              "(True, True, False, False)"
            ]
          },
          "metadata": {},
          "execution_count": 40
        }
      ]
    },
    {
      "cell_type": "code",
      "source": [],
      "metadata": {
        "id": "UwtD8Zxs9zUZ"
      },
      "id": "UwtD8Zxs9zUZ",
      "execution_count": null,
      "outputs": []
    },
    {
      "cell_type": "markdown",
      "source": [
        "## Numerización de datos (6)\n"
      ],
      "metadata": {
        "id": "xI0bXwPp-51q"
      },
      "id": "xI0bXwPp-51q"
    },
    {
      "cell_type": "code",
      "source": [
        "def numericalize_data(data, vocab):\n",
        "    ids = []\n",
        "    for token in data['tokens']:\n",
        "        if token in vocab:\n",
        "            ids.append(vocab[token])\n",
        "            \n",
        "\n",
        "    # ids = [vocab[token] for token in data['tokens']]\n",
        "    return ids"
      ],
      "metadata": {
        "id": "Cq_NCCGp-w3C"
      },
      "id": "Cq_NCCGp-w3C",
      "execution_count": null,
      "outputs": []
    },
    {
      "cell_type": "code",
      "source": [
        "data_valid['ids']=data_valid.apply(lambda data: numericalize_data(data, vocab), axis=1)\n",
        "\n",
        "data_train['ids']=data_train.apply(lambda data: numericalize_data(data, vocab), axis=1)\n",
        "\n",
        "data_test['ids']=data_test.apply(lambda data: numericalize_data(data, vocab), axis=1)\n"
      ],
      "metadata": {
        "id": "ps_FoiQ6-w93",
        "colab": {
          "base_uri": "https://localhost:8080/"
        },
        "outputId": "aca2c3cc-da0a-47bd-ab73-554b045852c1"
      },
      "id": "ps_FoiQ6-w93",
      "execution_count": null,
      "outputs": [
        {
          "output_type": "stream",
          "name": "stderr",
          "text": [
            "<ipython-input-42-a9faa238b8ff>:1: SettingWithCopyWarning: \n",
            "A value is trying to be set on a copy of a slice from a DataFrame.\n",
            "Try using .loc[row_indexer,col_indexer] = value instead\n",
            "\n",
            "See the caveats in the documentation: https://pandas.pydata.org/pandas-docs/stable/user_guide/indexing.html#returning-a-view-versus-a-copy\n",
            "  data_valid['ids']=data_valid.apply(lambda data: numericalize_data(data, vocab), axis=1)\n",
            "<ipython-input-42-a9faa238b8ff>:3: SettingWithCopyWarning: \n",
            "A value is trying to be set on a copy of a slice from a DataFrame.\n",
            "Try using .loc[row_indexer,col_indexer] = value instead\n",
            "\n",
            "See the caveats in the documentation: https://pandas.pydata.org/pandas-docs/stable/user_guide/indexing.html#returning-a-view-versus-a-copy\n",
            "  data_train['ids']=data_train.apply(lambda data: numericalize_data(data, vocab), axis=1)\n",
            "<ipython-input-42-a9faa238b8ff>:5: SettingWithCopyWarning: \n",
            "A value is trying to be set on a copy of a slice from a DataFrame.\n",
            "Try using .loc[row_indexer,col_indexer] = value instead\n",
            "\n",
            "See the caveats in the documentation: https://pandas.pydata.org/pandas-docs/stable/user_guide/indexing.html#returning-a-view-versus-a-copy\n",
            "  data_test['ids']=data_test.apply(lambda data: numericalize_data(data, vocab), axis=1)\n"
          ]
        }
      ]
    },
    {
      "cell_type": "code",
      "source": [
        "data_valid.head() # comprobacion visual"
      ],
      "metadata": {
        "id": "ISLMldfS-8dU",
        "colab": {
          "base_uri": "https://localhost:8080/",
          "height": 206
        },
        "outputId": "3b7a6675-6876-4f14-8241-c167fdf6ab6f"
      },
      "id": "ISLMldfS-8dU",
      "execution_count": null,
      "outputs": [
        {
          "output_type": "execute_result",
          "data": {
            "text/plain": [
              "                                                text sentiment  \\\n",
              "1                I`d have responded, if I were going   neutral   \n",
              "2      Sooo SAD I will miss you here in San Diego!!!  negative   \n",
              "3                          my boss is bullying me...  negative   \n",
              "4                     what interview! leave me alone  negative   \n",
              "5   Sons of ****, why couldn`t they put them on t...  negative   \n",
              "\n",
              "                                              tokens  \\\n",
              "1          [id, have, responded, if, i, were, going]   \n",
              "2  [sooo, sad, i, will, miss, you, here, in, san,...   \n",
              "3                       [my, boss, is, bullying, me]   \n",
              "4                [what, interview, leave, me, alone]   \n",
              "5  [sons, of, why, couldnt, they, put, them, on, ...   \n",
              "\n",
              "                                                 ids  \n",
              "1                   [287, 15, 24806, 67, 0, 118, 44]  \n",
              "2        [412, 114, 0, 57, 87, 6, 86, 9, 1513, 2263]  \n",
              "3                            [4, 1299, 8, 13840, 14]  \n",
              "4                           [55, 1132, 338, 14, 488]  \n",
              "5  [2984, 11, 109, 383, 84, 315, 125, 13, 2, 9414...  "
            ],
            "text/html": [
              "\n",
              "  <div id=\"df-bbe783a3-7bc3-4fc6-8b2e-fcaad6414a66\">\n",
              "    <div class=\"colab-df-container\">\n",
              "      <div>\n",
              "<style scoped>\n",
              "    .dataframe tbody tr th:only-of-type {\n",
              "        vertical-align: middle;\n",
              "    }\n",
              "\n",
              "    .dataframe tbody tr th {\n",
              "        vertical-align: top;\n",
              "    }\n",
              "\n",
              "    .dataframe thead th {\n",
              "        text-align: right;\n",
              "    }\n",
              "</style>\n",
              "<table border=\"1\" class=\"dataframe\">\n",
              "  <thead>\n",
              "    <tr style=\"text-align: right;\">\n",
              "      <th></th>\n",
              "      <th>text</th>\n",
              "      <th>sentiment</th>\n",
              "      <th>tokens</th>\n",
              "      <th>ids</th>\n",
              "    </tr>\n",
              "  </thead>\n",
              "  <tbody>\n",
              "    <tr>\n",
              "      <th>1</th>\n",
              "      <td>I`d have responded, if I were going</td>\n",
              "      <td>neutral</td>\n",
              "      <td>[id, have, responded, if, i, were, going]</td>\n",
              "      <td>[287, 15, 24806, 67, 0, 118, 44]</td>\n",
              "    </tr>\n",
              "    <tr>\n",
              "      <th>2</th>\n",
              "      <td>Sooo SAD I will miss you here in San Diego!!!</td>\n",
              "      <td>negative</td>\n",
              "      <td>[sooo, sad, i, will, miss, you, here, in, san,...</td>\n",
              "      <td>[412, 114, 0, 57, 87, 6, 86, 9, 1513, 2263]</td>\n",
              "    </tr>\n",
              "    <tr>\n",
              "      <th>3</th>\n",
              "      <td>my boss is bullying me...</td>\n",
              "      <td>negative</td>\n",
              "      <td>[my, boss, is, bullying, me]</td>\n",
              "      <td>[4, 1299, 8, 13840, 14]</td>\n",
              "    </tr>\n",
              "    <tr>\n",
              "      <th>4</th>\n",
              "      <td>what interview! leave me alone</td>\n",
              "      <td>negative</td>\n",
              "      <td>[what, interview, leave, me, alone]</td>\n",
              "      <td>[55, 1132, 338, 14, 488]</td>\n",
              "    </tr>\n",
              "    <tr>\n",
              "      <th>5</th>\n",
              "      <td>Sons of ****, why couldn`t they put them on t...</td>\n",
              "      <td>negative</td>\n",
              "      <td>[sons, of, why, couldnt, they, put, them, on, ...</td>\n",
              "      <td>[2984, 11, 109, 383, 84, 315, 125, 13, 2, 9414...</td>\n",
              "    </tr>\n",
              "  </tbody>\n",
              "</table>\n",
              "</div>\n",
              "      <button class=\"colab-df-convert\" onclick=\"convertToInteractive('df-bbe783a3-7bc3-4fc6-8b2e-fcaad6414a66')\"\n",
              "              title=\"Convert this dataframe to an interactive table.\"\n",
              "              style=\"display:none;\">\n",
              "        \n",
              "  <svg xmlns=\"http://www.w3.org/2000/svg\" height=\"24px\"viewBox=\"0 0 24 24\"\n",
              "       width=\"24px\">\n",
              "    <path d=\"M0 0h24v24H0V0z\" fill=\"none\"/>\n",
              "    <path d=\"M18.56 5.44l.94 2.06.94-2.06 2.06-.94-2.06-.94-.94-2.06-.94 2.06-2.06.94zm-11 1L8.5 8.5l.94-2.06 2.06-.94-2.06-.94L8.5 2.5l-.94 2.06-2.06.94zm10 10l.94 2.06.94-2.06 2.06-.94-2.06-.94-.94-2.06-.94 2.06-2.06.94z\"/><path d=\"M17.41 7.96l-1.37-1.37c-.4-.4-.92-.59-1.43-.59-.52 0-1.04.2-1.43.59L10.3 9.45l-7.72 7.72c-.78.78-.78 2.05 0 2.83L4 21.41c.39.39.9.59 1.41.59.51 0 1.02-.2 1.41-.59l7.78-7.78 2.81-2.81c.8-.78.8-2.07 0-2.86zM5.41 20L4 18.59l7.72-7.72 1.47 1.35L5.41 20z\"/>\n",
              "  </svg>\n",
              "      </button>\n",
              "      \n",
              "  <style>\n",
              "    .colab-df-container {\n",
              "      display:flex;\n",
              "      flex-wrap:wrap;\n",
              "      gap: 12px;\n",
              "    }\n",
              "\n",
              "    .colab-df-convert {\n",
              "      background-color: #E8F0FE;\n",
              "      border: none;\n",
              "      border-radius: 50%;\n",
              "      cursor: pointer;\n",
              "      display: none;\n",
              "      fill: #1967D2;\n",
              "      height: 32px;\n",
              "      padding: 0 0 0 0;\n",
              "      width: 32px;\n",
              "    }\n",
              "\n",
              "    .colab-df-convert:hover {\n",
              "      background-color: #E2EBFA;\n",
              "      box-shadow: 0px 1px 2px rgba(60, 64, 67, 0.3), 0px 1px 3px 1px rgba(60, 64, 67, 0.15);\n",
              "      fill: #174EA6;\n",
              "    }\n",
              "\n",
              "    [theme=dark] .colab-df-convert {\n",
              "      background-color: #3B4455;\n",
              "      fill: #D2E3FC;\n",
              "    }\n",
              "\n",
              "    [theme=dark] .colab-df-convert:hover {\n",
              "      background-color: #434B5C;\n",
              "      box-shadow: 0px 1px 3px 1px rgba(0, 0, 0, 0.15);\n",
              "      filter: drop-shadow(0px 1px 2px rgba(0, 0, 0, 0.3));\n",
              "      fill: #FFFFFF;\n",
              "    }\n",
              "  </style>\n",
              "\n",
              "      <script>\n",
              "        const buttonEl =\n",
              "          document.querySelector('#df-bbe783a3-7bc3-4fc6-8b2e-fcaad6414a66 button.colab-df-convert');\n",
              "        buttonEl.style.display =\n",
              "          google.colab.kernel.accessAllowed ? 'block' : 'none';\n",
              "\n",
              "        async function convertToInteractive(key) {\n",
              "          const element = document.querySelector('#df-bbe783a3-7bc3-4fc6-8b2e-fcaad6414a66');\n",
              "          const dataTable =\n",
              "            await google.colab.kernel.invokeFunction('convertToInteractive',\n",
              "                                                     [key], {});\n",
              "          if (!dataTable) return;\n",
              "\n",
              "          const docLinkHtml = 'Like what you see? Visit the ' +\n",
              "            '<a target=\"_blank\" href=https://colab.research.google.com/notebooks/data_table.ipynb>data table notebook</a>'\n",
              "            + ' to learn more about interactive tables.';\n",
              "          element.innerHTML = '';\n",
              "          dataTable['output_type'] = 'display_data';\n",
              "          await google.colab.output.renderOutput(dataTable, element);\n",
              "          const docLink = document.createElement('div');\n",
              "          docLink.innerHTML = docLinkHtml;\n",
              "          element.appendChild(docLink);\n",
              "        }\n",
              "      </script>\n",
              "    </div>\n",
              "  </div>\n",
              "  "
            ]
          },
          "metadata": {},
          "execution_count": 43
        }
      ]
    },
    {
      "cell_type": "code",
      "source": [
        "len(data_valid.loc[1,'tokens']), len(data_valid.loc[1,'ids']) # comprobamos que hay los mismos labels que id"
      ],
      "metadata": {
        "colab": {
          "base_uri": "https://localhost:8080/"
        },
        "id": "qTgEv68mI0gQ",
        "outputId": "f28ea5aa-e982-48a3-991d-c22c685c1a5c"
      },
      "id": "qTgEv68mI0gQ",
      "execution_count": null,
      "outputs": [
        {
          "output_type": "execute_result",
          "data": {
            "text/plain": [
              "(7, 7)"
            ]
          },
          "metadata": {},
          "execution_count": 44
        }
      ]
    },
    {
      "cell_type": "code",
      "source": [
        "# comprobamos que el token 1 \"id\" corresponde con su id del vocab y a su vez este corresponde con la id\n",
        "data_valid.loc[1,'tokens'][0], vocab[data_valid.loc[1,'tokens'][0]], data_valid.loc[1,'ids'][0],  vocab[data_valid.loc[1,'tokens'][0]] == data_valid.loc[1,'ids'][0]"
      ],
      "metadata": {
        "colab": {
          "base_uri": "https://localhost:8080/"
        },
        "id": "tvICllEAI-sA",
        "outputId": "730890f6-7872-457e-9ffc-e1d0eb3a8dcd"
      },
      "id": "tvICllEAI-sA",
      "execution_count": null,
      "outputs": [
        {
          "output_type": "execute_result",
          "data": {
            "text/plain": [
              "('id', 287, 287, True)"
            ]
          },
          "metadata": {},
          "execution_count": 45
        }
      ]
    },
    {
      "cell_type": "code",
      "source": [
        "data_train.head() # comprobacion visual"
      ],
      "metadata": {
        "colab": {
          "base_uri": "https://localhost:8080/",
          "height": 206
        },
        "id": "evgidYHnPXpK",
        "outputId": "ca3aff58-b3c5-4b90-b9e4-78deece94dd8"
      },
      "id": "evgidYHnPXpK",
      "execution_count": null,
      "outputs": [
        {
          "output_type": "execute_result",
          "data": {
            "text/plain": [
              "                                                   text sentiment  \\\n",
              "4398  Getting all annoyed cos this weekend`s going t...  negative   \n",
              "4399   Yeah ill make sure i keep you updated.. i get...   neutral   \n",
              "4400   http://twitpic.com/5h3ad - And Brazil??? WE L...  positive   \n",
              "4401  _rockett i know! And he laughed at the stupid ...  positive   \n",
              "4402  cleaning cleaning cleaning today then working ...   neutral   \n",
              "\n",
              "                                                 tokens  \\\n",
              "4398  [getting, all, annoyed, cos, this, weekends, g...   \n",
              "4399  [yeah, ill, make, sure, i, keep, you, updated,...   \n",
              "4400  [httptwitpiccom5h3ad, and, brazil, we, love, y...   \n",
              "4401  [_rockett, i, know, and, he, laughed, at, the,...   \n",
              "4402  [cleaning, cleaning, cleaning, today, then, wo...   \n",
              "\n",
              "                                                    ids  \n",
              "4398  [139, 27, 1844, 825, 28, 1835, 44, 1, 22, 265,...  \n",
              "4399  [126, 99, 119, 174, 0, 255, 6, 1525, 0, 33, 7,...  \n",
              "4400                    [19455, 5, 1948, 61, 41, 6, 43]  \n",
              "4401  [11671, 0, 53, 5, 110, 1893, 24, 2, 366, 5359,...  \n",
              "4402  [636, 636, 636, 45, 102, 168, 31, 0, 41, 25, 168]  "
            ],
            "text/html": [
              "\n",
              "  <div id=\"df-57b6b38e-c75e-4529-8353-d0c3dfc23816\">\n",
              "    <div class=\"colab-df-container\">\n",
              "      <div>\n",
              "<style scoped>\n",
              "    .dataframe tbody tr th:only-of-type {\n",
              "        vertical-align: middle;\n",
              "    }\n",
              "\n",
              "    .dataframe tbody tr th {\n",
              "        vertical-align: top;\n",
              "    }\n",
              "\n",
              "    .dataframe thead th {\n",
              "        text-align: right;\n",
              "    }\n",
              "</style>\n",
              "<table border=\"1\" class=\"dataframe\">\n",
              "  <thead>\n",
              "    <tr style=\"text-align: right;\">\n",
              "      <th></th>\n",
              "      <th>text</th>\n",
              "      <th>sentiment</th>\n",
              "      <th>tokens</th>\n",
              "      <th>ids</th>\n",
              "    </tr>\n",
              "  </thead>\n",
              "  <tbody>\n",
              "    <tr>\n",
              "      <th>4398</th>\n",
              "      <td>Getting all annoyed cos this weekend`s going t...</td>\n",
              "      <td>negative</td>\n",
              "      <td>[getting, all, annoyed, cos, this, weekends, g...</td>\n",
              "      <td>[139, 27, 1844, 825, 28, 1835, 44, 1, 22, 265,...</td>\n",
              "    </tr>\n",
              "    <tr>\n",
              "      <th>4399</th>\n",
              "      <td>Yeah ill make sure i keep you updated.. i get...</td>\n",
              "      <td>neutral</td>\n",
              "      <td>[yeah, ill, make, sure, i, keep, you, updated,...</td>\n",
              "      <td>[126, 99, 119, 174, 0, 255, 6, 1525, 0, 33, 7,...</td>\n",
              "    </tr>\n",
              "    <tr>\n",
              "      <th>4400</th>\n",
              "      <td>http://twitpic.com/5h3ad - And Brazil??? WE L...</td>\n",
              "      <td>positive</td>\n",
              "      <td>[httptwitpiccom5h3ad, and, brazil, we, love, y...</td>\n",
              "      <td>[19455, 5, 1948, 61, 41, 6, 43]</td>\n",
              "    </tr>\n",
              "    <tr>\n",
              "      <th>4401</th>\n",
              "      <td>_rockett i know! And he laughed at the stupid ...</td>\n",
              "      <td>positive</td>\n",
              "      <td>[_rockett, i, know, and, he, laughed, at, the,...</td>\n",
              "      <td>[11671, 0, 53, 5, 110, 1893, 24, 2, 366, 5359,...</td>\n",
              "    </tr>\n",
              "    <tr>\n",
              "      <th>4402</th>\n",
              "      <td>cleaning cleaning cleaning today then working ...</td>\n",
              "      <td>neutral</td>\n",
              "      <td>[cleaning, cleaning, cleaning, today, then, wo...</td>\n",
              "      <td>[636, 636, 636, 45, 102, 168, 31, 0, 41, 25, 168]</td>\n",
              "    </tr>\n",
              "  </tbody>\n",
              "</table>\n",
              "</div>\n",
              "      <button class=\"colab-df-convert\" onclick=\"convertToInteractive('df-57b6b38e-c75e-4529-8353-d0c3dfc23816')\"\n",
              "              title=\"Convert this dataframe to an interactive table.\"\n",
              "              style=\"display:none;\">\n",
              "        \n",
              "  <svg xmlns=\"http://www.w3.org/2000/svg\" height=\"24px\"viewBox=\"0 0 24 24\"\n",
              "       width=\"24px\">\n",
              "    <path d=\"M0 0h24v24H0V0z\" fill=\"none\"/>\n",
              "    <path d=\"M18.56 5.44l.94 2.06.94-2.06 2.06-.94-2.06-.94-.94-2.06-.94 2.06-2.06.94zm-11 1L8.5 8.5l.94-2.06 2.06-.94-2.06-.94L8.5 2.5l-.94 2.06-2.06.94zm10 10l.94 2.06.94-2.06 2.06-.94-2.06-.94-.94-2.06-.94 2.06-2.06.94z\"/><path d=\"M17.41 7.96l-1.37-1.37c-.4-.4-.92-.59-1.43-.59-.52 0-1.04.2-1.43.59L10.3 9.45l-7.72 7.72c-.78.78-.78 2.05 0 2.83L4 21.41c.39.39.9.59 1.41.59.51 0 1.02-.2 1.41-.59l7.78-7.78 2.81-2.81c.8-.78.8-2.07 0-2.86zM5.41 20L4 18.59l7.72-7.72 1.47 1.35L5.41 20z\"/>\n",
              "  </svg>\n",
              "      </button>\n",
              "      \n",
              "  <style>\n",
              "    .colab-df-container {\n",
              "      display:flex;\n",
              "      flex-wrap:wrap;\n",
              "      gap: 12px;\n",
              "    }\n",
              "\n",
              "    .colab-df-convert {\n",
              "      background-color: #E8F0FE;\n",
              "      border: none;\n",
              "      border-radius: 50%;\n",
              "      cursor: pointer;\n",
              "      display: none;\n",
              "      fill: #1967D2;\n",
              "      height: 32px;\n",
              "      padding: 0 0 0 0;\n",
              "      width: 32px;\n",
              "    }\n",
              "\n",
              "    .colab-df-convert:hover {\n",
              "      background-color: #E2EBFA;\n",
              "      box-shadow: 0px 1px 2px rgba(60, 64, 67, 0.3), 0px 1px 3px 1px rgba(60, 64, 67, 0.15);\n",
              "      fill: #174EA6;\n",
              "    }\n",
              "\n",
              "    [theme=dark] .colab-df-convert {\n",
              "      background-color: #3B4455;\n",
              "      fill: #D2E3FC;\n",
              "    }\n",
              "\n",
              "    [theme=dark] .colab-df-convert:hover {\n",
              "      background-color: #434B5C;\n",
              "      box-shadow: 0px 1px 3px 1px rgba(0, 0, 0, 0.15);\n",
              "      filter: drop-shadow(0px 1px 2px rgba(0, 0, 0, 0.3));\n",
              "      fill: #FFFFFF;\n",
              "    }\n",
              "  </style>\n",
              "\n",
              "      <script>\n",
              "        const buttonEl =\n",
              "          document.querySelector('#df-57b6b38e-c75e-4529-8353-d0c3dfc23816 button.colab-df-convert');\n",
              "        buttonEl.style.display =\n",
              "          google.colab.kernel.accessAllowed ? 'block' : 'none';\n",
              "\n",
              "        async function convertToInteractive(key) {\n",
              "          const element = document.querySelector('#df-57b6b38e-c75e-4529-8353-d0c3dfc23816');\n",
              "          const dataTable =\n",
              "            await google.colab.kernel.invokeFunction('convertToInteractive',\n",
              "                                                     [key], {});\n",
              "          if (!dataTable) return;\n",
              "\n",
              "          const docLinkHtml = 'Like what you see? Visit the ' +\n",
              "            '<a target=\"_blank\" href=https://colab.research.google.com/notebooks/data_table.ipynb>data table notebook</a>'\n",
              "            + ' to learn more about interactive tables.';\n",
              "          element.innerHTML = '';\n",
              "          dataTable['output_type'] = 'display_data';\n",
              "          await google.colab.output.renderOutput(dataTable, element);\n",
              "          const docLink = document.createElement('div');\n",
              "          docLink.innerHTML = docLinkHtml;\n",
              "          element.appendChild(docLink);\n",
              "        }\n",
              "      </script>\n",
              "    </div>\n",
              "  </div>\n",
              "  "
            ]
          },
          "metadata": {},
          "execution_count": 46
        }
      ]
    },
    {
      "cell_type": "code",
      "source": [
        "data_test.head() # comprobacion visual"
      ],
      "metadata": {
        "colab": {
          "base_uri": "https://localhost:8080/",
          "height": 206
        },
        "id": "IElXrlZKPaCI",
        "outputId": "dff9388b-4d9e-4d69-9a2f-fce40f97737f"
      },
      "id": "IElXrlZKPaCI",
      "execution_count": null,
      "outputs": [
        {
          "output_type": "execute_result",
          "data": {
            "text/plain": [
              "                                                    text sentiment  \\\n",
              "21986    _JessicaB_**** yip.....aw gonna miss them on bb  negative   \n",
              "21987                             _violence heyyyy babyy  negative   \n",
              "21988  Up at 6am on Sunday... Going to meet my mom fo...   neutral   \n",
              "21989  so the Today show still hasn`t gotten in touch...   neutral   \n",
              "21990  Just checked email and got a follower withb sa...   neutral   \n",
              "\n",
              "                                                  tokens  \\\n",
              "21986     [_jessicab_, yipaw, gonna, miss, them, on, bb]   \n",
              "21987                         [_violence, heyyyy, babyy]   \n",
              "21988  [up, at, 6am, on, sunday, going, to, meet, my,...   \n",
              "21989  [so, the, today, show, still, hasnt, gotten, i...   \n",
              "21990  [just, checked, email, and, got, a, follower, ...   \n",
              "\n",
              "                                                     ids  \n",
              "21986             [11421, 29377, 123, 87, 125, 13, 1398]  \n",
              "21987                               [11791, 18256, 4527]  \n",
              "21988  [32, 24, 2758, 13, 364, 44, 1, 438, 4, 177, 10...  \n",
              "21989  [16, 2, 45, 166, 77, 1238, 1237, 9, 1143, 20, ...  \n",
              "21990  [19, 1018, 564, 5, 46, 3, 1096, 28928, 223, 43...  "
            ],
            "text/html": [
              "\n",
              "  <div id=\"df-7686befd-0049-4e89-b249-cca1097a06f3\">\n",
              "    <div class=\"colab-df-container\">\n",
              "      <div>\n",
              "<style scoped>\n",
              "    .dataframe tbody tr th:only-of-type {\n",
              "        vertical-align: middle;\n",
              "    }\n",
              "\n",
              "    .dataframe tbody tr th {\n",
              "        vertical-align: top;\n",
              "    }\n",
              "\n",
              "    .dataframe thead th {\n",
              "        text-align: right;\n",
              "    }\n",
              "</style>\n",
              "<table border=\"1\" class=\"dataframe\">\n",
              "  <thead>\n",
              "    <tr style=\"text-align: right;\">\n",
              "      <th></th>\n",
              "      <th>text</th>\n",
              "      <th>sentiment</th>\n",
              "      <th>tokens</th>\n",
              "      <th>ids</th>\n",
              "    </tr>\n",
              "  </thead>\n",
              "  <tbody>\n",
              "    <tr>\n",
              "      <th>21986</th>\n",
              "      <td>_JessicaB_**** yip.....aw gonna miss them on bb</td>\n",
              "      <td>negative</td>\n",
              "      <td>[_jessicab_, yipaw, gonna, miss, them, on, bb]</td>\n",
              "      <td>[11421, 29377, 123, 87, 125, 13, 1398]</td>\n",
              "    </tr>\n",
              "    <tr>\n",
              "      <th>21987</th>\n",
              "      <td>_violence heyyyy babyy</td>\n",
              "      <td>negative</td>\n",
              "      <td>[_violence, heyyyy, babyy]</td>\n",
              "      <td>[11791, 18256, 4527]</td>\n",
              "    </tr>\n",
              "    <tr>\n",
              "      <th>21988</th>\n",
              "      <td>Up at 6am on Sunday... Going to meet my mom fo...</td>\n",
              "      <td>neutral</td>\n",
              "      <td>[up, at, 6am, on, sunday, going, to, meet, my,...</td>\n",
              "      <td>[32, 24, 2758, 13, 364, 44, 1, 438, 4, 177, 10...</td>\n",
              "    </tr>\n",
              "    <tr>\n",
              "      <th>21989</th>\n",
              "      <td>so the Today show still hasn`t gotten in touch...</td>\n",
              "      <td>neutral</td>\n",
              "      <td>[so, the, today, show, still, hasnt, gotten, i...</td>\n",
              "      <td>[16, 2, 45, 166, 77, 1238, 1237, 9, 1143, 20, ...</td>\n",
              "    </tr>\n",
              "    <tr>\n",
              "      <th>21990</th>\n",
              "      <td>Just checked email and got a follower withb sa...</td>\n",
              "      <td>neutral</td>\n",
              "      <td>[just, checked, email, and, got, a, follower, ...</td>\n",
              "      <td>[19, 1018, 564, 5, 46, 3, 1096, 28928, 223, 43...</td>\n",
              "    </tr>\n",
              "  </tbody>\n",
              "</table>\n",
              "</div>\n",
              "      <button class=\"colab-df-convert\" onclick=\"convertToInteractive('df-7686befd-0049-4e89-b249-cca1097a06f3')\"\n",
              "              title=\"Convert this dataframe to an interactive table.\"\n",
              "              style=\"display:none;\">\n",
              "        \n",
              "  <svg xmlns=\"http://www.w3.org/2000/svg\" height=\"24px\"viewBox=\"0 0 24 24\"\n",
              "       width=\"24px\">\n",
              "    <path d=\"M0 0h24v24H0V0z\" fill=\"none\"/>\n",
              "    <path d=\"M18.56 5.44l.94 2.06.94-2.06 2.06-.94-2.06-.94-.94-2.06-.94 2.06-2.06.94zm-11 1L8.5 8.5l.94-2.06 2.06-.94-2.06-.94L8.5 2.5l-.94 2.06-2.06.94zm10 10l.94 2.06.94-2.06 2.06-.94-2.06-.94-.94-2.06-.94 2.06-2.06.94z\"/><path d=\"M17.41 7.96l-1.37-1.37c-.4-.4-.92-.59-1.43-.59-.52 0-1.04.2-1.43.59L10.3 9.45l-7.72 7.72c-.78.78-.78 2.05 0 2.83L4 21.41c.39.39.9.59 1.41.59.51 0 1.02-.2 1.41-.59l7.78-7.78 2.81-2.81c.8-.78.8-2.07 0-2.86zM5.41 20L4 18.59l7.72-7.72 1.47 1.35L5.41 20z\"/>\n",
              "  </svg>\n",
              "      </button>\n",
              "      \n",
              "  <style>\n",
              "    .colab-df-container {\n",
              "      display:flex;\n",
              "      flex-wrap:wrap;\n",
              "      gap: 12px;\n",
              "    }\n",
              "\n",
              "    .colab-df-convert {\n",
              "      background-color: #E8F0FE;\n",
              "      border: none;\n",
              "      border-radius: 50%;\n",
              "      cursor: pointer;\n",
              "      display: none;\n",
              "      fill: #1967D2;\n",
              "      height: 32px;\n",
              "      padding: 0 0 0 0;\n",
              "      width: 32px;\n",
              "    }\n",
              "\n",
              "    .colab-df-convert:hover {\n",
              "      background-color: #E2EBFA;\n",
              "      box-shadow: 0px 1px 2px rgba(60, 64, 67, 0.3), 0px 1px 3px 1px rgba(60, 64, 67, 0.15);\n",
              "      fill: #174EA6;\n",
              "    }\n",
              "\n",
              "    [theme=dark] .colab-df-convert {\n",
              "      background-color: #3B4455;\n",
              "      fill: #D2E3FC;\n",
              "    }\n",
              "\n",
              "    [theme=dark] .colab-df-convert:hover {\n",
              "      background-color: #434B5C;\n",
              "      box-shadow: 0px 1px 3px 1px rgba(0, 0, 0, 0.15);\n",
              "      filter: drop-shadow(0px 1px 2px rgba(0, 0, 0, 0.3));\n",
              "      fill: #FFFFFF;\n",
              "    }\n",
              "  </style>\n",
              "\n",
              "      <script>\n",
              "        const buttonEl =\n",
              "          document.querySelector('#df-7686befd-0049-4e89-b249-cca1097a06f3 button.colab-df-convert');\n",
              "        buttonEl.style.display =\n",
              "          google.colab.kernel.accessAllowed ? 'block' : 'none';\n",
              "\n",
              "        async function convertToInteractive(key) {\n",
              "          const element = document.querySelector('#df-7686befd-0049-4e89-b249-cca1097a06f3');\n",
              "          const dataTable =\n",
              "            await google.colab.kernel.invokeFunction('convertToInteractive',\n",
              "                                                     [key], {});\n",
              "          if (!dataTable) return;\n",
              "\n",
              "          const docLinkHtml = 'Like what you see? Visit the ' +\n",
              "            '<a target=\"_blank\" href=https://colab.research.google.com/notebooks/data_table.ipynb>data table notebook</a>'\n",
              "            + ' to learn more about interactive tables.';\n",
              "          element.innerHTML = '';\n",
              "          dataTable['output_type'] = 'display_data';\n",
              "          await google.colab.output.renderOutput(dataTable, element);\n",
              "          const docLink = document.createElement('div');\n",
              "          docLink.innerHTML = docLinkHtml;\n",
              "          element.appendChild(docLink);\n",
              "        }\n",
              "      </script>\n",
              "    </div>\n",
              "  </div>\n",
              "  "
            ]
          },
          "metadata": {},
          "execution_count": 47
        }
      ]
    },
    {
      "cell_type": "code",
      "source": [
        "## label para los sentimientos: negative = 0, neutral = 1, positive = 2\n",
        "def label(data):\n",
        "    if data['sentiment'] == 'negative':\n",
        "        l=0\n",
        "    elif data['sentiment'] == 'neutral':\n",
        "        l=1\n",
        "    elif data['sentiment'] == 'positive':\n",
        "        l=2\n",
        "    return l\n",
        "\n",
        "data_valid['label'] = data_valid.apply(lambda data: label(data), axis=1)\n",
        "data_train['label'] = data_train.apply(lambda data: label(data), axis=1)\n",
        "data_test['label'] = data_test.apply(lambda data: label(data), axis=1)"
      ],
      "metadata": {
        "colab": {
          "base_uri": "https://localhost:8080/"
        },
        "id": "Xkqhadha1dcf",
        "outputId": "0f540a27-719c-412d-9033-563e52ba2367"
      },
      "id": "Xkqhadha1dcf",
      "execution_count": null,
      "outputs": [
        {
          "output_type": "stream",
          "name": "stderr",
          "text": [
            "<ipython-input-48-85e5b601b2bd>:11: SettingWithCopyWarning: \n",
            "A value is trying to be set on a copy of a slice from a DataFrame.\n",
            "Try using .loc[row_indexer,col_indexer] = value instead\n",
            "\n",
            "See the caveats in the documentation: https://pandas.pydata.org/pandas-docs/stable/user_guide/indexing.html#returning-a-view-versus-a-copy\n",
            "  data_valid['label'] = data_valid.apply(lambda data: label(data), axis=1)\n",
            "<ipython-input-48-85e5b601b2bd>:12: SettingWithCopyWarning: \n",
            "A value is trying to be set on a copy of a slice from a DataFrame.\n",
            "Try using .loc[row_indexer,col_indexer] = value instead\n",
            "\n",
            "See the caveats in the documentation: https://pandas.pydata.org/pandas-docs/stable/user_guide/indexing.html#returning-a-view-versus-a-copy\n",
            "  data_train['label'] = data_train.apply(lambda data: label(data), axis=1)\n",
            "<ipython-input-48-85e5b601b2bd>:13: SettingWithCopyWarning: \n",
            "A value is trying to be set on a copy of a slice from a DataFrame.\n",
            "Try using .loc[row_indexer,col_indexer] = value instead\n",
            "\n",
            "See the caveats in the documentation: https://pandas.pydata.org/pandas-docs/stable/user_guide/indexing.html#returning-a-view-versus-a-copy\n",
            "  data_test['label'] = data_test.apply(lambda data: label(data), axis=1)\n"
          ]
        }
      ]
    },
    {
      "cell_type": "code",
      "source": [
        "data_valid.head() # comprobación visual"
      ],
      "metadata": {
        "colab": {
          "base_uri": "https://localhost:8080/",
          "height": 206
        },
        "id": "K5jQkOu-3Hs9",
        "outputId": "c0f8acca-ce37-48f1-863e-6b2a9d9edfca"
      },
      "id": "K5jQkOu-3Hs9",
      "execution_count": null,
      "outputs": [
        {
          "output_type": "execute_result",
          "data": {
            "text/plain": [
              "                                                text sentiment  \\\n",
              "1                I`d have responded, if I were going   neutral   \n",
              "2      Sooo SAD I will miss you here in San Diego!!!  negative   \n",
              "3                          my boss is bullying me...  negative   \n",
              "4                     what interview! leave me alone  negative   \n",
              "5   Sons of ****, why couldn`t they put them on t...  negative   \n",
              "\n",
              "                                              tokens  \\\n",
              "1          [id, have, responded, if, i, were, going]   \n",
              "2  [sooo, sad, i, will, miss, you, here, in, san,...   \n",
              "3                       [my, boss, is, bullying, me]   \n",
              "4                [what, interview, leave, me, alone]   \n",
              "5  [sons, of, why, couldnt, they, put, them, on, ...   \n",
              "\n",
              "                                                 ids  label  \n",
              "1                   [287, 15, 24806, 67, 0, 118, 44]      1  \n",
              "2        [412, 114, 0, 57, 87, 6, 86, 9, 1513, 2263]      0  \n",
              "3                            [4, 1299, 8, 13840, 14]      0  \n",
              "4                           [55, 1132, 338, 14, 488]      0  \n",
              "5  [2984, 11, 109, 383, 84, 315, 125, 13, 2, 9414...      0  "
            ],
            "text/html": [
              "\n",
              "  <div id=\"df-715e2efb-26d7-4e46-b6e5-b5c3aef070ac\">\n",
              "    <div class=\"colab-df-container\">\n",
              "      <div>\n",
              "<style scoped>\n",
              "    .dataframe tbody tr th:only-of-type {\n",
              "        vertical-align: middle;\n",
              "    }\n",
              "\n",
              "    .dataframe tbody tr th {\n",
              "        vertical-align: top;\n",
              "    }\n",
              "\n",
              "    .dataframe thead th {\n",
              "        text-align: right;\n",
              "    }\n",
              "</style>\n",
              "<table border=\"1\" class=\"dataframe\">\n",
              "  <thead>\n",
              "    <tr style=\"text-align: right;\">\n",
              "      <th></th>\n",
              "      <th>text</th>\n",
              "      <th>sentiment</th>\n",
              "      <th>tokens</th>\n",
              "      <th>ids</th>\n",
              "      <th>label</th>\n",
              "    </tr>\n",
              "  </thead>\n",
              "  <tbody>\n",
              "    <tr>\n",
              "      <th>1</th>\n",
              "      <td>I`d have responded, if I were going</td>\n",
              "      <td>neutral</td>\n",
              "      <td>[id, have, responded, if, i, were, going]</td>\n",
              "      <td>[287, 15, 24806, 67, 0, 118, 44]</td>\n",
              "      <td>1</td>\n",
              "    </tr>\n",
              "    <tr>\n",
              "      <th>2</th>\n",
              "      <td>Sooo SAD I will miss you here in San Diego!!!</td>\n",
              "      <td>negative</td>\n",
              "      <td>[sooo, sad, i, will, miss, you, here, in, san,...</td>\n",
              "      <td>[412, 114, 0, 57, 87, 6, 86, 9, 1513, 2263]</td>\n",
              "      <td>0</td>\n",
              "    </tr>\n",
              "    <tr>\n",
              "      <th>3</th>\n",
              "      <td>my boss is bullying me...</td>\n",
              "      <td>negative</td>\n",
              "      <td>[my, boss, is, bullying, me]</td>\n",
              "      <td>[4, 1299, 8, 13840, 14]</td>\n",
              "      <td>0</td>\n",
              "    </tr>\n",
              "    <tr>\n",
              "      <th>4</th>\n",
              "      <td>what interview! leave me alone</td>\n",
              "      <td>negative</td>\n",
              "      <td>[what, interview, leave, me, alone]</td>\n",
              "      <td>[55, 1132, 338, 14, 488]</td>\n",
              "      <td>0</td>\n",
              "    </tr>\n",
              "    <tr>\n",
              "      <th>5</th>\n",
              "      <td>Sons of ****, why couldn`t they put them on t...</td>\n",
              "      <td>negative</td>\n",
              "      <td>[sons, of, why, couldnt, they, put, them, on, ...</td>\n",
              "      <td>[2984, 11, 109, 383, 84, 315, 125, 13, 2, 9414...</td>\n",
              "      <td>0</td>\n",
              "    </tr>\n",
              "  </tbody>\n",
              "</table>\n",
              "</div>\n",
              "      <button class=\"colab-df-convert\" onclick=\"convertToInteractive('df-715e2efb-26d7-4e46-b6e5-b5c3aef070ac')\"\n",
              "              title=\"Convert this dataframe to an interactive table.\"\n",
              "              style=\"display:none;\">\n",
              "        \n",
              "  <svg xmlns=\"http://www.w3.org/2000/svg\" height=\"24px\"viewBox=\"0 0 24 24\"\n",
              "       width=\"24px\">\n",
              "    <path d=\"M0 0h24v24H0V0z\" fill=\"none\"/>\n",
              "    <path d=\"M18.56 5.44l.94 2.06.94-2.06 2.06-.94-2.06-.94-.94-2.06-.94 2.06-2.06.94zm-11 1L8.5 8.5l.94-2.06 2.06-.94-2.06-.94L8.5 2.5l-.94 2.06-2.06.94zm10 10l.94 2.06.94-2.06 2.06-.94-2.06-.94-.94-2.06-.94 2.06-2.06.94z\"/><path d=\"M17.41 7.96l-1.37-1.37c-.4-.4-.92-.59-1.43-.59-.52 0-1.04.2-1.43.59L10.3 9.45l-7.72 7.72c-.78.78-.78 2.05 0 2.83L4 21.41c.39.39.9.59 1.41.59.51 0 1.02-.2 1.41-.59l7.78-7.78 2.81-2.81c.8-.78.8-2.07 0-2.86zM5.41 20L4 18.59l7.72-7.72 1.47 1.35L5.41 20z\"/>\n",
              "  </svg>\n",
              "      </button>\n",
              "      \n",
              "  <style>\n",
              "    .colab-df-container {\n",
              "      display:flex;\n",
              "      flex-wrap:wrap;\n",
              "      gap: 12px;\n",
              "    }\n",
              "\n",
              "    .colab-df-convert {\n",
              "      background-color: #E8F0FE;\n",
              "      border: none;\n",
              "      border-radius: 50%;\n",
              "      cursor: pointer;\n",
              "      display: none;\n",
              "      fill: #1967D2;\n",
              "      height: 32px;\n",
              "      padding: 0 0 0 0;\n",
              "      width: 32px;\n",
              "    }\n",
              "\n",
              "    .colab-df-convert:hover {\n",
              "      background-color: #E2EBFA;\n",
              "      box-shadow: 0px 1px 2px rgba(60, 64, 67, 0.3), 0px 1px 3px 1px rgba(60, 64, 67, 0.15);\n",
              "      fill: #174EA6;\n",
              "    }\n",
              "\n",
              "    [theme=dark] .colab-df-convert {\n",
              "      background-color: #3B4455;\n",
              "      fill: #D2E3FC;\n",
              "    }\n",
              "\n",
              "    [theme=dark] .colab-df-convert:hover {\n",
              "      background-color: #434B5C;\n",
              "      box-shadow: 0px 1px 3px 1px rgba(0, 0, 0, 0.15);\n",
              "      filter: drop-shadow(0px 1px 2px rgba(0, 0, 0, 0.3));\n",
              "      fill: #FFFFFF;\n",
              "    }\n",
              "  </style>\n",
              "\n",
              "      <script>\n",
              "        const buttonEl =\n",
              "          document.querySelector('#df-715e2efb-26d7-4e46-b6e5-b5c3aef070ac button.colab-df-convert');\n",
              "        buttonEl.style.display =\n",
              "          google.colab.kernel.accessAllowed ? 'block' : 'none';\n",
              "\n",
              "        async function convertToInteractive(key) {\n",
              "          const element = document.querySelector('#df-715e2efb-26d7-4e46-b6e5-b5c3aef070ac');\n",
              "          const dataTable =\n",
              "            await google.colab.kernel.invokeFunction('convertToInteractive',\n",
              "                                                     [key], {});\n",
              "          if (!dataTable) return;\n",
              "\n",
              "          const docLinkHtml = 'Like what you see? Visit the ' +\n",
              "            '<a target=\"_blank\" href=https://colab.research.google.com/notebooks/data_table.ipynb>data table notebook</a>'\n",
              "            + ' to learn more about interactive tables.';\n",
              "          element.innerHTML = '';\n",
              "          dataTable['output_type'] = 'display_data';\n",
              "          await google.colab.output.renderOutput(dataTable, element);\n",
              "          const docLink = document.createElement('div');\n",
              "          docLink.innerHTML = docLinkHtml;\n",
              "          element.appendChild(docLink);\n",
              "        }\n",
              "      </script>\n",
              "    </div>\n",
              "  </div>\n",
              "  "
            ]
          },
          "metadata": {},
          "execution_count": 49
        }
      ]
    },
    {
      "cell_type": "markdown",
      "source": [
        "Ahora vamos a despedirnos de estas tablas que tantas veces hemos visto durante este archivo porque transformar nuestro DataFrame en un Dataset con el formato necesario para poder crear los Dataloaders:"
      ],
      "metadata": {
        "id": "ln5iVGt9JYTT"
      },
      "id": "ln5iVGt9JYTT"
    },
    {
      "cell_type": "code",
      "source": [
        "columnas_deseadas = ['text', 'ids', 'label']\n",
        "\n",
        "d_valid = []\n",
        "for _, row in data_valid.iterrows():\n",
        "    diccionario = {}\n",
        "    for columna in columnas_deseadas:\n",
        "        if columna == 'ids' or columna == 'label':\n",
        "            diccionario[columna] = torch.tensor(row[columna])\n",
        "        else:\n",
        "            diccionario[columna] = row[columna]\n",
        "    d_valid.append(diccionario)\n",
        "\n",
        "\n",
        "d_train = []\n",
        "for _, row in data_train.iterrows():\n",
        "    diccionario = {}\n",
        "    for columna in columnas_deseadas:\n",
        "        if columna == 'ids' or columna == 'label':\n",
        "            diccionario[columna] = torch.tensor(row[columna])\n",
        "        else:\n",
        "            diccionario[columna] = row[columna]\n",
        "    d_train.append(diccionario)\n",
        "\n",
        "\n",
        "d_test = []\n",
        "for _, row in data_test.iterrows():\n",
        "    diccionario = {}\n",
        "    for columna in columnas_deseadas:\n",
        "        if columna == 'ids' or columna == 'label':\n",
        "            diccionario[columna] = torch.tensor(row[columna])\n",
        "        else:\n",
        "            diccionario[columna] = row[columna]\n",
        "    d_test.append(diccionario)\n"
      ],
      "metadata": {
        "id": "WHrCiNJOTqU7"
      },
      "id": "WHrCiNJOTqU7",
      "execution_count": null,
      "outputs": []
    },
    {
      "cell_type": "code",
      "source": [
        "d_valid[1], type(d_valid[1]) # type(d_valid) ese comando a mi me da list y al ejemplo datasets.arrow_dataset.Dataset"
      ],
      "metadata": {
        "colab": {
          "base_uri": "https://localhost:8080/"
        },
        "id": "mYGIarsEWFJ5",
        "outputId": "b0670c4f-90fa-47eb-b514-03312393c9e0"
      },
      "id": "mYGIarsEWFJ5",
      "execution_count": null,
      "outputs": [
        {
          "output_type": "execute_result",
          "data": {
            "text/plain": [
              "({'text': ' Sooo SAD I will miss you here in San Diego!!!',\n",
              "  'ids': tensor([ 412,  114,    0,   57,   87,    6,   86,    9, 1513, 2263]),\n",
              "  'label': tensor(0)},\n",
              " dict)"
            ]
          },
          "metadata": {},
          "execution_count": 51
        }
      ]
    },
    {
      "cell_type": "markdown",
      "source": [
        "Realmente los textos no los queremos para nada, simplemente los estoy añadiendo también para comprobar que todo funciona bien (por eso no están en tensores ni nada, que además son strings)"
      ],
      "metadata": {
        "id": "wXhiLkbOJsBn"
      },
      "id": "wXhiLkbOJsBn"
    },
    {
      "cell_type": "markdown",
      "source": [
        "## Creación de \"dataloaders\" (7)\n",
        "\n"
      ],
      "metadata": {
        "id": "KNho_rv_-9ix"
      },
      "id": "KNho_rv_-9ix"
    },
    {
      "cell_type": "code",
      "source": [
        "def collate(batch, pad_index):\n",
        "    batch_ids = [i['ids'] for i in batch]\n",
        "    batch_ids = nn.utils.rnn.pad_sequence(batch_ids, padding_value=pad_index, batch_first=True)\n",
        "    batch_label = [i['label'] for i in batch]\n",
        "    batch_label = torch.stack(batch_label)\n",
        "    batch = {'ids': batch_ids,\n",
        "             'label': batch_label}\n",
        "    return batch\n",
        "\n",
        "## toma una lista de muestras\n",
        "## realiza el relleno (padding) en las secuencias de 'ids' para tener la misma longitud\n",
        "## y retorna un diccionario que contiene los tensores resultantes de 'ids' y 'label'"
      ],
      "metadata": {
        "id": "7Po7ub8IIzjV"
      },
      "id": "7Po7ub8IIzjV",
      "execution_count": null,
      "outputs": []
    },
    {
      "cell_type": "markdown",
      "source": [
        "\n",
        "\n",
        "La función collate() toma una lista de muestras, realiza el relleno (padding) en las secuencias de 'ids' para tener la misma longitud y retorna un diccionario que contiene los tensores resultantes de 'ids' y 'label'\n",
        "\n"
      ],
      "metadata": {
        "id": "tOo5fr9bfWih"
      },
      "id": "tOo5fr9bfWih"
    },
    {
      "cell_type": "code",
      "source": [
        "batch_size = 350\n",
        "pad_index = 1\n",
        "\n",
        "collate = functools.partial(collate, pad_index=pad_index) # renombramos la función collate que está añadida dentro\n",
        "\n",
        "train_dataloader = torch.utils.data.DataLoader(d_train, \n",
        "                                               batch_size=batch_size, \n",
        "                                               collate_fn=collate, \n",
        "                                               shuffle=True)\n",
        "\n",
        "valid_dataloader = torch.utils.data.DataLoader(d_valid,\n",
        "                                               batch_size=batch_size,\n",
        "                                               collate_fn=collate)\n",
        "\n",
        "test_dataloader = torch.utils.data.DataLoader(d_test,\n",
        "                                              batch_size=batch_size,\n",
        "                                              collate_fn=collate)"
      ],
      "metadata": {
        "id": "OI04Z4AG_yla"
      },
      "id": "OI04Z4AG_yla",
      "execution_count": null,
      "outputs": []
    },
    {
      "cell_type": "code",
      "source": [
        "class NBoW(nn.Module):\n",
        "    def __init__(self, vocab_size, embedding_dim, output_dim, pad_index):\n",
        "        super().__init__()\n",
        "        self.embedding = nn.Embedding(vocab_size, embedding_dim, padding_idx=pad_index)\n",
        "        self.fc = nn.Linear(embedding_dim, output_dim)\n",
        "\n",
        "    def forward(self, ids):\n",
        "        # ids = [batch size, seq len]\n",
        "        embedded = self.embedding(ids)\n",
        "        # embedded = [batch size, seq len, embedding dim]\n",
        "        pooled = embedded.mean(dim=1)\n",
        "        # pooled = [batch size, embedding dim]\n",
        "        prediction = self.fc(pooled)\n",
        "        # prediction = [batch size, output dim]\n",
        "        return prediction"
      ],
      "metadata": {
        "id": "2nrHLNkjeJMH"
      },
      "id": "2nrHLNkjeJMH",
      "execution_count": null,
      "outputs": []
    },
    {
      "cell_type": "code",
      "source": [
        "vocab_size = len(vocab)\n",
        "embedding_dim = 300\n",
        "\n",
        "# para tener las 3 clases posibles, en el ejemplo son 2:\n",
        "output_dim = len(set(data_train['label'])) # set es para que no aparezcan más de una vez\n",
        "output_dim"
      ],
      "metadata": {
        "id": "1s0gaH5C-8pi",
        "colab": {
          "base_uri": "https://localhost:8080/"
        },
        "outputId": "83e78321-15a0-4b72-f9c6-f122047925c6"
      },
      "id": "1s0gaH5C-8pi",
      "execution_count": null,
      "outputs": [
        {
          "output_type": "execute_result",
          "data": {
            "text/plain": [
              "3"
            ]
          },
          "metadata": {},
          "execution_count": 95
        }
      ]
    },
    {
      "cell_type": "code",
      "source": [
        "model = NBoW(vocab_size, embedding_dim, output_dim, pad_index)"
      ],
      "metadata": {
        "id": "xoKKwDGu-80K"
      },
      "id": "xoKKwDGu-80K",
      "execution_count": null,
      "outputs": []
    },
    {
      "cell_type": "code",
      "source": [
        "def count_parameters(model):\n",
        "    return sum(p.numel() for p in model.parameters() if p.requires_grad)\n",
        "\n",
        "print(f'The model has {count_parameters(model):,} trainable parameters')"
      ],
      "metadata": {
        "colab": {
          "base_uri": "https://localhost:8080/"
        },
        "id": "eYlAuwaheddG",
        "outputId": "39bd8983-66d1-4617-cec6-aa1724fa8b56"
      },
      "id": "eYlAuwaheddG",
      "execution_count": null,
      "outputs": [
        {
          "output_type": "stream",
          "name": "stdout",
          "text": [
            "The model has 8,875,803 trainable parameters\n"
          ]
        }
      ]
    },
    {
      "cell_type": "code",
      "source": [
        "!pip install fasttext"
      ],
      "metadata": {
        "id": "OHZ9evtkf_Yf",
        "colab": {
          "base_uri": "https://localhost:8080/"
        },
        "outputId": "fc1a87ce-aa0f-4b47-93dd-4f1995e1d97c"
      },
      "id": "OHZ9evtkf_Yf",
      "execution_count": null,
      "outputs": [
        {
          "output_type": "stream",
          "name": "stdout",
          "text": [
            "Looking in indexes: https://pypi.org/simple, https://us-python.pkg.dev/colab-wheels/public/simple/\n",
            "Requirement already satisfied: fasttext in /usr/local/lib/python3.10/dist-packages (0.9.2)\n",
            "Requirement already satisfied: pybind11>=2.2 in /usr/local/lib/python3.10/dist-packages (from fasttext) (2.10.4)\n",
            "Requirement already satisfied: setuptools>=0.7.0 in /usr/local/lib/python3.10/dist-packages (from fasttext) (67.7.2)\n",
            "Requirement already satisfied: numpy in /usr/local/lib/python3.10/dist-packages (from fasttext) (1.22.4)\n"
          ]
        }
      ]
    },
    {
      "cell_type": "markdown",
      "source": [
        "FastText es una técnica de representación de palabras que extiende los vectores de palabras tradicionales al considerar también los subtokens dentro de una palabra. Los vectores de palabras pre-entrenados de FastText capturan información semántica y morfológica de las palabras, lo que puede ser útil en tareas de procesamiento de lenguaje natural. \n",
        "\n",
        "Al crear un objeto FastText, se cargan los vectores pre-entrenados en el objeto y se pueden utilizar para obtener la representación vectorial de palabras específicas."
      ],
      "metadata": {
        "id": "aXbVerfkfQe6"
      },
      "id": "aXbVerfkfQe6"
    },
    {
      "cell_type": "code",
      "source": [
        "#vectors = torchtext.vocab.FastText()"
      ],
      "metadata": {
        "id": "fxbhTBC4ed9l",
        "colab": {
          "base_uri": "https://localhost:8080/"
        },
        "outputId": "486a57a9-c282-4606-d799-217d4f3b159b"
      },
      "id": "fxbhTBC4ed9l",
      "execution_count": null,
      "outputs": [
        {
          "output_type": "stream",
          "name": "stderr",
          "text": [
            ".vector_cache/wiki.en.vec: 6.60GB [01:14, 88.6MB/s]                           \n",
            "  0%|          | 0/2519370 [00:00<?, ?it/s]WARNING:torchtext.vocab.vectors:Skipping token b'2519370' with 1-dimensional vector [b'300']; likely a header\n",
            "100%|██████████| 2519370/2519370 [06:47<00:00, 6182.44it/s]\n"
          ]
        }
      ]
    },
    {
      "cell_type": "code",
      "source": [
        "hello_vector = vectors.get_vecs_by_tokens('hello')"
      ],
      "metadata": {
        "id": "8B09dmaMeeEf"
      },
      "id": "8B09dmaMeeEf",
      "execution_count": null,
      "outputs": []
    },
    {
      "cell_type": "markdown",
      "source": [
        "El código hello_vector = vectors.get_vecs_by_tokens('hello') utiliza el objeto vectors de la clase FastText para obtener el vector correspondiente a la palabra \"hello\" en los vectores pre-entrenados de FastText."
      ],
      "metadata": {
        "id": "MluimVOggZ9p"
      },
      "id": "MluimVOggZ9p"
    },
    {
      "cell_type": "code",
      "source": [
        "hello_vector.shape\n",
        "## da 300 porque se ha utilizado embedding_dim = 300"
      ],
      "metadata": {
        "colab": {
          "base_uri": "https://localhost:8080/"
        },
        "id": "sTnGFEG7eeLm",
        "outputId": "0e2c9d87-8cd1-4731-e7b8-1563999c7c20"
      },
      "id": "sTnGFEG7eeLm",
      "execution_count": null,
      "outputs": [
        {
          "output_type": "execute_result",
          "data": {
            "text/plain": [
              "torch.Size([300])"
            ]
          },
          "metadata": {},
          "execution_count": 100
        }
      ]
    },
    {
      "cell_type": "code",
      "source": [
        "pretrained_embedding = vectors.get_vecs_by_tokens(vocab.get_itos())"
      ],
      "metadata": {
        "id": "npRxnrhTwdBK"
      },
      "id": "npRxnrhTwdBK",
      "execution_count": null,
      "outputs": []
    },
    {
      "cell_type": "markdown",
      "source": [
        "\n",
        "El objetivo de la línea de código pretrained_embedding = vectors.get_vecs_by_tokens(vocab.get_itos()) es obtener una matriz de vectores pre-entrenados para todos los tokens en el vocabulario utilizado en tu modelo.\n",
        "\n",
        "La matriz pretrained_embedding contendrá los vectores pre-entrenados correspondientes a cada token en el vocabulario. Cada fila de la matriz representará un vector pre-entrenado para un token específico."
      ],
      "metadata": {
        "id": "al6myXwmwbzW"
      },
      "id": "al6myXwmwbzW"
    },
    {
      "cell_type": "code",
      "source": [
        "pretrained_embedding.shape, len(vocab)"
      ],
      "metadata": {
        "id": "9irFMROEeecO",
        "colab": {
          "base_uri": "https://localhost:8080/"
        },
        "outputId": "8dd0f0cc-5725-4b27-f277-ee928b206029"
      },
      "id": "9irFMROEeecO",
      "execution_count": null,
      "outputs": [
        {
          "output_type": "execute_result",
          "data": {
            "text/plain": [
              "(torch.Size([29583, 300]), 29583)"
            ]
          },
          "metadata": {},
          "execution_count": 102
        }
      ]
    },
    {
      "cell_type": "code",
      "source": [
        "model.embedding.weight"
      ],
      "metadata": {
        "id": "WKkCuFuqeemk",
        "colab": {
          "base_uri": "https://localhost:8080/"
        },
        "outputId": "0ae6dee4-f9b8-40dc-93cd-7362b305ede3"
      },
      "id": "WKkCuFuqeemk",
      "execution_count": null,
      "outputs": [
        {
          "output_type": "execute_result",
          "data": {
            "text/plain": [
              "Parameter containing:\n",
              "tensor([[ 2.3723e-01, -2.0102e-01,  1.4643e+00,  ..., -7.4705e-02,\n",
              "          1.9171e+00, -7.5711e-01],\n",
              "        [ 0.0000e+00,  0.0000e+00,  0.0000e+00,  ...,  0.0000e+00,\n",
              "          0.0000e+00,  0.0000e+00],\n",
              "        [ 4.8975e-01,  9.9387e-01,  5.7705e-01,  ..., -3.6496e-01,\n",
              "          2.4384e-01,  8.6467e-01],\n",
              "        ...,\n",
              "        [-2.8348e-01,  1.1485e+00, -4.5738e-01,  ..., -1.0644e+00,\n",
              "         -5.7080e-01,  4.5451e-01],\n",
              "        [-4.2477e-02, -6.5425e-01,  9.9853e-01,  ..., -7.9746e-01,\n",
              "         -1.0882e+00,  8.0747e-03],\n",
              "        [-8.9130e-01,  7.6569e-01, -2.0900e-01,  ..., -1.1277e+00,\n",
              "          1.0173e-03,  7.7837e-01]], requires_grad=True)"
            ]
          },
          "metadata": {},
          "execution_count": 103
        }
      ]
    },
    {
      "cell_type": "markdown",
      "source": [
        "El objetivo de la línea de código model.embedding.weight es acceder a la matriz de embeddings de palabras en el módulo de embedding de un modelo de procesamiento de lenguaje natural."
      ],
      "metadata": {
        "id": "5f-BdCRixNNE"
      },
      "id": "5f-BdCRixNNE"
    },
    {
      "cell_type": "code",
      "source": [
        "pretrained_embedding"
      ],
      "metadata": {
        "id": "lV0eEkq6eeus",
        "colab": {
          "base_uri": "https://localhost:8080/"
        },
        "outputId": "c9bfd21d-ebd1-432a-cb5e-e4a9d1d48d13"
      },
      "id": "lV0eEkq6eeus",
      "execution_count": null,
      "outputs": [
        {
          "output_type": "execute_result",
          "data": {
            "text/plain": [
              "tensor([[-0.4008,  0.1399,  0.1291,  ...,  0.2321,  0.0794,  0.1381],\n",
              "        [-0.2134,  0.1535,  0.0529,  ..., -0.0259, -0.0725,  0.1499],\n",
              "        [-0.0653, -0.0930, -0.0176,  ...,  0.1664, -0.1308,  0.0354],\n",
              "        ...,\n",
              "        [ 0.0000,  0.0000,  0.0000,  ...,  0.0000,  0.0000,  0.0000],\n",
              "        [ 0.0000,  0.0000,  0.0000,  ...,  0.0000,  0.0000,  0.0000],\n",
              "        [ 0.0000,  0.0000,  0.0000,  ...,  0.0000,  0.0000,  0.0000]])"
            ]
          },
          "metadata": {},
          "execution_count": 104
        }
      ]
    },
    {
      "cell_type": "code",
      "source": [
        "model.embedding.weight.data = pretrained_embedding"
      ],
      "metadata": {
        "id": "IMHCsu0Rxc1J"
      },
      "id": "IMHCsu0Rxc1J",
      "execution_count": null,
      "outputs": []
    },
    {
      "cell_type": "markdown",
      "source": [
        "En otras palabras, se actualiza la matriz de embeddings del modelo (model.embedding.weight.data) con los vectores de embeddings pre-entrenados (pretrained_embedding). Esto permite que el modelo utilice los embeddings pre-entrenados como punto de partida en lugar de inicializar los embeddings desde cero."
      ],
      "metadata": {
        "id": "k1znTmXNxqCY"
      },
      "id": "k1znTmXNxqCY"
    },
    {
      "cell_type": "code",
      "source": [
        "optimizer = optim.Adam(model.parameters())"
      ],
      "metadata": {
        "id": "waP2BcKsxdBU"
      },
      "id": "waP2BcKsxdBU",
      "execution_count": null,
      "outputs": []
    },
    {
      "cell_type": "markdown",
      "source": [
        "El optimizador Adam es un algoritmo de optimización popular utilizado en el aprendizaje profundo. Toma como entrada los parámetros del modelo (model.parameters()) y crea un objeto optimizador (optimizer) que se encarga de actualizar esos parámetros en función de los gradientes calculados durante el entrenamiento"
      ],
      "metadata": {
        "id": "ca0fmGXpx_K_"
      },
      "id": "ca0fmGXpx_K_"
    },
    {
      "cell_type": "code",
      "source": [
        "criterion = nn.CrossEntropyLoss()"
      ],
      "metadata": {
        "id": "f3lsqEE5xdJq"
      },
      "id": "f3lsqEE5xdJq",
      "execution_count": null,
      "outputs": []
    },
    {
      "cell_type": "markdown",
      "source": [
        "El objetivo de la instrucción criterion = nn.CrossEntropyLoss() es crear una función de pérdida (loss) de entropía cruzada (CrossEntropyLoss) para medir la discrepancia entre las salidas del modelo y las etiquetas reales durante el entrenamiento.\n",
        "\n",
        "La entropía cruzada es una medida comúnmente utilizada en problemas de clasificación donde se tienen múltiples clases. La función nn.CrossEntropyLoss() combina la función de activación Softmax y la función de pérdida de entropía cruzada en una sola operación eficiente.\n",
        "\n",
        "Al utilizar esta función de pérdida, se busca minimizar la discrepancia entre las predicciones del modelo y las etiquetas correctas durante el entrenamiento. La entropía cruzada penaliza las predicciones incorrectas de manera proporcional a su grado de error, fomentando así que el modelo aprenda a producir distribuciones de probabilidad más precisas para las clases objetivo."
      ],
      "metadata": {
        "id": "rx6WBgcjyL17"
      },
      "id": "rx6WBgcjyL17"
    },
    {
      "cell_type": "code",
      "source": [
        "device = torch.device('cuda' if torch.cuda.is_available() else 'cpu')\n",
        "\n",
        "device"
      ],
      "metadata": {
        "colab": {
          "base_uri": "https://localhost:8080/"
        },
        "id": "1GFk4jjpxdSG",
        "outputId": "9ea2f9f2-ef45-4f48-9844-80c096698ae5"
      },
      "id": "1GFk4jjpxdSG",
      "execution_count": null,
      "outputs": [
        {
          "output_type": "execute_result",
          "data": {
            "text/plain": [
              "device(type='cpu')"
            ]
          },
          "metadata": {},
          "execution_count": 108
        }
      ]
    },
    {
      "cell_type": "code",
      "source": [
        "model = model.to(device)\n",
        "criterion = criterion.to(device)"
      ],
      "metadata": {
        "id": "LGaXqKoyxdZ7"
      },
      "id": "LGaXqKoyxdZ7",
      "execution_count": null,
      "outputs": []
    },
    {
      "cell_type": "markdown",
      "source": [
        "Trasladamos el modelo y la función de pérdida al dispositivo de cómputo especificado por device, lo que permite realizar los cálculos en ese dispositivo y aprovechar su potencia de procesamiento."
      ],
      "metadata": {
        "id": "gSzfy2ilyie5"
      },
      "id": "gSzfy2ilyie5"
    },
    {
      "cell_type": "markdown",
      "source": [
        "## Creación de las funciones de entrenamiento y validación (8)\n",
        "  "
      ],
      "metadata": {
        "id": "0C_VRtClLbQz"
      },
      "id": "0C_VRtClLbQz"
    },
    {
      "cell_type": "code",
      "source": [
        "def train(dataloader, model, criterion, optimizer, device):\n",
        "\n",
        "    model.train()\n",
        "    epoch_losses = []\n",
        "    epoch_accs = []\n",
        "\n",
        "    for batch in tqdm.tqdm(dataloader, desc='training...', file=sys.stdout):\n",
        "        ids = batch['ids'].to(device)\n",
        "        label = batch['label'].to(device)\n",
        "        prediction = model(ids)\n",
        "        loss = criterion(prediction, label)\n",
        "        accuracy = get_accuracy(prediction, label)\n",
        "        optimizer.zero_grad()\n",
        "        loss.backward()\n",
        "        optimizer.step()\n",
        "        epoch_losses.append(loss.item())\n",
        "        epoch_accs.append(accuracy.item())\n",
        "\n",
        "    return epoch_losses, epoch_accs"
      ],
      "metadata": {
        "id": "xaAicVJLxdhG"
      },
      "id": "xaAicVJLxdhG",
      "execution_count": null,
      "outputs": []
    },
    {
      "cell_type": "code",
      "source": [
        "def evaluate(dataloader, model, criterion, device):\n",
        "    \n",
        "    model.eval()\n",
        "    epoch_losses = []\n",
        "    epoch_accs = []\n",
        "\n",
        "    with torch.no_grad():\n",
        "        for batch in tqdm.tqdm(dataloader, desc='evaluating...', file=sys.stdout):\n",
        "            ids = batch['ids'].to(device)\n",
        "            label = batch['label'].to(device)\n",
        "            prediction = model(ids)\n",
        "            loss = criterion(prediction, label)\n",
        "            accuracy = get_accuracy(prediction, label)\n",
        "            epoch_losses.append(loss.item())\n",
        "            epoch_accs.append(accuracy.item())\n",
        "\n",
        "    return epoch_losses, epoch_accs"
      ],
      "metadata": {
        "id": "0kOrg56ay-6K"
      },
      "id": "0kOrg56ay-6K",
      "execution_count": null,
      "outputs": []
    },
    {
      "cell_type": "code",
      "source": [
        "def get_accuracy(prediction, label):\n",
        "    batch_size, _ = prediction.shape\n",
        "    predicted_classes = prediction.argmax(dim=-1)\n",
        "    correct_predictions = predicted_classes.eq(label).sum()\n",
        "    accuracy = correct_predictions / batch_size\n",
        "    return accuracy"
      ],
      "metadata": {
        "id": "r8ydLaMazB5l"
      },
      "id": "r8ydLaMazB5l",
      "execution_count": null,
      "outputs": []
    },
    {
      "cell_type": "code",
      "source": [
        "n_epochs = 10\n",
        "best_valid_loss = float('inf')\n",
        "\n",
        "train_losses = []\n",
        "train_accs = []\n",
        "valid_losses = []\n",
        "valid_accs = []\n",
        "\n",
        "for epoch in range(n_epochs):\n",
        "\n",
        "    train_loss, train_acc = train(train_dataloader, model, criterion, optimizer, device)\n",
        "    valid_loss, valid_acc = evaluate(valid_dataloader, model, criterion, device)\n",
        "\n",
        "    train_losses.extend(train_loss)\n",
        "    train_accs.extend(train_acc)\n",
        "    valid_losses.extend(valid_loss)\n",
        "    valid_accs.extend(valid_acc)\n",
        "    \n",
        "    epoch_train_loss = np.mean(train_loss)\n",
        "    epoch_train_acc = np.mean(train_acc)\n",
        "    epoch_valid_loss = np.mean(valid_loss)\n",
        "    epoch_valid_acc = np.mean(valid_acc)\n",
        "    \n",
        "    if epoch_valid_loss < best_valid_loss:\n",
        "        best_valid_loss = epoch_valid_loss\n",
        "        torch.save(model.state_dict(), 'nbow.pt')\n",
        "    \n",
        "    print(f'epoch: {epoch+1}')\n",
        "    print(f'train_loss: {epoch_train_loss:.3f}, train_acc: {epoch_train_acc:.3f}')\n",
        "    print(f'valid_loss: {epoch_valid_loss:.3f}, valid_acc: {epoch_valid_acc:.3f}')"
      ],
      "metadata": {
        "colab": {
          "base_uri": "https://localhost:8080/"
        },
        "id": "z1IVdU8Wy_Es",
        "outputId": "a36aaa16-084f-4c69-cd64-45f0963af4ae"
      },
      "id": "z1IVdU8Wy_Es",
      "execution_count": null,
      "outputs": [
        {
          "output_type": "stream",
          "name": "stdout",
          "text": [
            "training...: 100%|██████████| 51/51 [00:06<00:00,  7.33it/s]\n",
            "evaluating...: 100%|██████████| 13/13 [00:00<00:00, 92.40it/s]\n",
            "epoch: 1\n",
            "train_loss: 1.076, train_acc: 0.411\n",
            "valid_loss: 1.065, valid_acc: 0.433\n",
            "training...: 100%|██████████| 51/51 [00:06<00:00,  7.40it/s]\n",
            "evaluating...: 100%|██████████| 13/13 [00:00<00:00, 143.58it/s]\n",
            "epoch: 2\n",
            "train_loss: 1.041, train_acc: 0.462\n",
            "valid_loss: 1.029, valid_acc: 0.470\n",
            "training...: 100%|██████████| 51/51 [00:05<00:00,  8.53it/s]\n",
            "evaluating...: 100%|██████████| 13/13 [00:00<00:00, 146.50it/s]\n",
            "epoch: 3\n",
            "train_loss: 0.981, train_acc: 0.537\n",
            "valid_loss: 0.976, valid_acc: 0.529\n",
            "training...: 100%|██████████| 51/51 [00:06<00:00,  7.38it/s]\n",
            "evaluating...: 100%|██████████| 13/13 [00:00<00:00, 146.40it/s]\n",
            "epoch: 4\n",
            "train_loss: 0.901, train_acc: 0.614\n",
            "valid_loss: 0.921, valid_acc: 0.558\n",
            "training...: 100%|██████████| 51/51 [00:05<00:00,  8.63it/s]\n",
            "evaluating...: 100%|██████████| 13/13 [00:00<00:00, 129.62it/s]\n",
            "epoch: 5\n",
            "train_loss: 0.824, train_acc: 0.662\n",
            "valid_loss: 0.876, valid_acc: 0.626\n",
            "training...: 100%|██████████| 51/51 [00:06<00:00,  7.32it/s]\n",
            "evaluating...: 100%|██████████| 13/13 [00:00<00:00, 148.88it/s]\n",
            "epoch: 6\n",
            "train_loss: 0.751, train_acc: 0.719\n",
            "valid_loss: 0.841, valid_acc: 0.631\n",
            "training...: 100%|██████████| 51/51 [00:06<00:00,  8.49it/s]\n",
            "evaluating...: 100%|██████████| 13/13 [00:00<00:00, 149.65it/s]\n",
            "epoch: 7\n",
            "train_loss: 0.687, train_acc: 0.752\n",
            "valid_loss: 0.815, valid_acc: 0.658\n",
            "training...: 100%|██████████| 51/51 [00:06<00:00,  7.46it/s]\n",
            "evaluating...: 100%|██████████| 13/13 [00:00<00:00, 129.99it/s]\n",
            "epoch: 8\n",
            "train_loss: 0.633, train_acc: 0.783\n",
            "valid_loss: 0.797, valid_acc: 0.659\n",
            "training...: 100%|██████████| 51/51 [00:05<00:00,  8.57it/s]\n",
            "evaluating...: 100%|██████████| 13/13 [00:00<00:00, 132.99it/s]\n",
            "epoch: 9\n",
            "train_loss: 0.583, train_acc: 0.803\n",
            "valid_loss: 0.784, valid_acc: 0.668\n",
            "training...: 100%|██████████| 51/51 [00:06<00:00,  7.74it/s]\n",
            "evaluating...: 100%|██████████| 13/13 [00:00<00:00, 94.71it/s]\n",
            "epoch: 10\n",
            "train_loss: 0.541, train_acc: 0.822\n",
            "valid_loss: 0.777, valid_acc: 0.672\n"
          ]
        }
      ]
    },
    {
      "cell_type": "code",
      "source": [
        "fig = plt.figure(figsize=(10,6))\n",
        "ax = fig.add_subplot(1,1,1)\n",
        "ax.plot(train_losses, label='train loss')\n",
        "ax.plot(valid_losses, label='valid loss')\n",
        "plt.legend()\n",
        "ax.set_xlabel('updates')\n",
        "ax.set_ylabel('loss');"
      ],
      "metadata": {
        "colab": {
          "base_uri": "https://localhost:8080/",
          "height": 542
        },
        "id": "FqKH_Kc1y_MW",
        "outputId": "6861cb59-54b8-4d04-9163-e68d1d627d83"
      },
      "id": "FqKH_Kc1y_MW",
      "execution_count": null,
      "outputs": [
        {
          "output_type": "display_data",
          "data": {
            "text/plain": [
              "<Figure size 1000x600 with 1 Axes>"
            ],
            "image/png": "[encoded data removed]"
          },
          "metadata": {}
        }
      ]
    },
    {
      "cell_type": "code",
      "source": [
        "fig = plt.figure(figsize=(10,6))\n",
        "ax = fig.add_subplot(1,1,1)\n",
        "ax.plot(train_accs, label='train accuracy')\n",
        "ax.plot(valid_accs, label='valid accuracy')\n",
        "plt.legend()\n",
        "ax.set_xlabel('updates')\n",
        "ax.set_ylabel('accuracy');"
      ],
      "metadata": {
        "colab": {
          "base_uri": "https://localhost:8080/",
          "height": 542
        },
        "id": "Pq-WZwUMy_Uq",
        "outputId": "8034d32c-2a7b-46af-8d34-fe18543dad7f"
      },
      "id": "Pq-WZwUMy_Uq",
      "execution_count": null,
      "outputs": [
        {
          "output_type": "display_data",
          "data": {
            "text/plain": [
              "<Figure size 1000x600 with 1 Axes>"
            ],
            "image/png": "[encoded data removed]"
          },
          "metadata": {}
        }
      ]
    },
    {
      "cell_type": "code",
      "source": [
        "model.load_state_dict(torch.load('nbow.pt'))\n",
        "\n",
        "test_loss, test_acc = evaluate(test_dataloader, model, criterion, device)\n",
        "\n",
        "epoch_test_loss = np.mean(test_loss)\n",
        "epoch_test_acc = np.mean(test_acc)\n",
        "\n",
        "print(f'test_loss: {epoch_test_loss:.3f}, test_acc: {epoch_test_acc:.3f}')"
      ],
      "metadata": {
        "colab": {
          "base_uri": "https://localhost:8080/"
        },
        "id": "hEHTnbyzy_cD",
        "outputId": "8ae83892-28e1-44c2-b290-06765234bc75"
      },
      "id": "hEHTnbyzy_cD",
      "execution_count": null,
      "outputs": [
        {
          "output_type": "stream",
          "name": "stdout",
          "text": [
            "evaluating...: 100%|██████████| 16/16 [00:00<00:00, 141.02it/s]\n",
            "test_loss: 0.753, test_acc: 0.686\n"
          ]
        }
      ]
    },
    {
      "cell_type": "code",
      "source": [],
      "metadata": {
        "id": "GHzRgA9WNk6i"
      },
      "id": "GHzRgA9WNk6i",
      "execution_count": null,
      "outputs": []
    },
    {
      "cell_type": "markdown",
      "source": [
        "## Pruebas de predicción de sentimientos (9)"
      ],
      "metadata": {
        "id": "SG2g1MtXEsRw"
      },
      "id": "SG2g1MtXEsRw"
    },
    {
      "cell_type": "markdown",
      "source": [
        "Vamos a crear la función que utilizaremos para predecir el sentimiento. Los parametros de entrada son:\n",
        "* el texto sobre el que predecir el sentimiento\n",
        "* el modelo que hemos entrenado\n",
        "* el tokenizador definido\n",
        "* el vocabulario de nuestro dataset inicial\n",
        "* el dispositivo donde se ejecuta (cuda/cpu...)"
      ],
      "metadata": {
        "id": "cwLRoFY3KJu1"
      },
      "id": "cwLRoFY3KJu1"
    },
    {
      "cell_type": "code",
      "source": [
        "def predict_sentiment(text, model, tokenizer, vocab, device):\n",
        "    text = clean_text(text)\n",
        "    tokens = tokenizer(text)\n",
        "    ids = [vocab[t] for t in tokens if t in vocab] # imprescindible el if t in vocab porque sino da error si alguna palabra no existe en el vocabulario\n",
        "    tensor = torch.LongTensor(ids).unsqueeze(dim=0).to(device)\n",
        "    prediction = model(tensor).squeeze(dim=0)\n",
        "    probability = torch.softmax(prediction, dim=-1)\n",
        "    #print(probability)\n",
        "    #print(probability[prediction.argmax(dim=-1)].item())\n",
        "    \n",
        "    if math.isnan(probability[prediction.argmax(dim=-1)].item()): # esto aparece cuando no hay datos, es decir, ninguna palabra en vocab\n",
        "        print(f'ERROR: \\nThere isn\\'t enough vocabulary to predict that text... sorry :( \\nWe will improve it ;)')\n",
        "        return ;\n",
        "\n",
        "    elif probability[prediction.argmax(dim=-1)].item() < 0.6: # si no tiene un porcentaje mayor de 60%, se pone en neutro\n",
        "        predicted_probability = probability[prediction.argmax(dim=-1).item()].item() # si es neutro \"forzado\" mantenemos la probabilidad del máximo (duditas de esto)\n",
        "        predicted_class = 1\n",
        "\n",
        "    else:\n",
        "        predicted_class = prediction.argmax(dim=-1).item()\n",
        "        predicted_probability = probability[predicted_class].item()\n",
        "\n",
        "    if predicted_class == 0:\n",
        "        vibes = 'negative vibes'\n",
        "    elif predicted_class == 1:\n",
        "        vibes = 'neutral vibes'\n",
        "    elif predicted_class == 2:\n",
        "        vibes = 'positive vibes'\n",
        "    return vibes, predicted_probability\n",
        "        "
      ],
      "metadata": {
        "id": "gCigIVmnxdoe"
      },
      "id": "gCigIVmnxdoe",
      "execution_count": null,
      "outputs": []
    },
    {
      "cell_type": "code",
      "source": [
        "text = \"Tomorrow it is going to be a new day\"\n",
        "\n",
        "predict_sentiment(text, model, tokenizer, vocab, device)"
      ],
      "metadata": {
        "colab": {
          "base_uri": "https://localhost:8080/"
        },
        "id": "rPFW0pCB1GSE",
        "outputId": "c65b0818-c14c-4bfd-f17c-2dd3d23f9109"
      },
      "id": "rPFW0pCB1GSE",
      "execution_count": null,
      "outputs": [
        {
          "output_type": "execute_result",
          "data": {
            "text/plain": [
              "('positive vibes', 0.6799032092094421)"
            ]
          },
          "metadata": {},
          "execution_count": 79
        }
      ]
    },
    {
      "cell_type": "code",
      "source": [
        "text = \"good\"\n",
        "\n",
        "predict_sentiment(text, model, tokenizer, vocab, device)"
      ],
      "metadata": {
        "colab": {
          "base_uri": "https://localhost:8080/"
        },
        "id": "HyNqdRgM5bki",
        "outputId": "d5af773d-68b5-4b0b-a224-ba7b927c8494"
      },
      "id": "HyNqdRgM5bki",
      "execution_count": null,
      "outputs": [
        {
          "output_type": "execute_result",
          "data": {
            "text/plain": [
              "('positive vibes', 1.0)"
            ]
          },
          "metadata": {},
          "execution_count": 80
        }
      ]
    },
    {
      "cell_type": "code",
      "source": [
        "text = \"bad\"\n",
        "\n",
        "predict_sentiment(text, model, tokenizer, vocab, device)"
      ],
      "metadata": {
        "colab": {
          "base_uri": "https://localhost:8080/"
        },
        "id": "Cksb4Anc5eAv",
        "outputId": "de7a1aef-24cb-4665-a20b-9ebb75a92da5"
      },
      "id": "Cksb4Anc5eAv",
      "execution_count": null,
      "outputs": [
        {
          "output_type": "execute_result",
          "data": {
            "text/plain": [
              "('negative vibes', 1.0)"
            ]
          },
          "metadata": {},
          "execution_count": 81
        }
      ]
    },
    {
      "cell_type": "code",
      "source": [
        "text = \"neutral\"\n",
        "\n",
        "predict_sentiment(text, model, tokenizer, vocab, device)"
      ],
      "metadata": {
        "colab": {
          "base_uri": "https://localhost:8080/"
        },
        "id": "OoFP78if5fxl",
        "outputId": "75e448af-14e2-4dc2-d8a5-065e92debd71"
      },
      "id": "OoFP78if5fxl",
      "execution_count": null,
      "outputs": [
        {
          "output_type": "stream",
          "name": "stdout",
          "text": [
            "ERROR: \n",
            "There isn't enough vocabulary to predict that text... sorry :( \n",
            "We will improve it ;)\n"
          ]
        }
      ]
    },
    {
      "cell_type": "code",
      "source": [
        "text = \"tomorrow its saturday\"\n",
        "\n",
        "predict_sentiment(text, model, tokenizer, vocab, device)"
      ],
      "metadata": {
        "colab": {
          "base_uri": "https://localhost:8080/"
        },
        "id": "2kcRDyAM5Qdd",
        "outputId": "bd65ac38-4099-4344-d6e8-b79cefffcb09"
      },
      "id": "2kcRDyAM5Qdd",
      "execution_count": null,
      "outputs": [
        {
          "output_type": "execute_result",
          "data": {
            "text/plain": [
              "('neutral vibes', 0.47165924310684204)"
            ]
          },
          "metadata": {},
          "execution_count": 83
        }
      ]
    },
    {
      "cell_type": "code",
      "source": [
        "text = \"I`d have responded, if I were going\t\"\n",
        "\n",
        "predict_sentiment(text, model, tokenizer, vocab, device)"
      ],
      "metadata": {
        "colab": {
          "base_uri": "https://localhost:8080/"
        },
        "id": "PKbP3Gl95RCb",
        "outputId": "d8d3187a-4e39-477d-a72c-c6e1a89169a7"
      },
      "id": "PKbP3Gl95RCb",
      "execution_count": null,
      "outputs": [
        {
          "output_type": "execute_result",
          "data": {
            "text/plain": [
              "('neutral vibes', 0.9408195614814758)"
            ]
          },
          "metadata": {},
          "execution_count": 84
        }
      ]
    },
    {
      "cell_type": "code",
      "source": [
        "text = \"hello\"\n",
        "\n",
        "predict_sentiment(text, model, tokenizer, vocab, device)"
      ],
      "metadata": {
        "colab": {
          "base_uri": "https://localhost:8080/"
        },
        "id": "3yrMBdhc8URi",
        "outputId": "ee650f1b-2cee-428d-a164-d15a90f62514"
      },
      "id": "3yrMBdhc8URi",
      "execution_count": null,
      "outputs": [
        {
          "output_type": "execute_result",
          "data": {
            "text/plain": [
              "('neutral vibes', 0.9975599050521851)"
            ]
          },
          "metadata": {},
          "execution_count": 85
        }
      ]
    },
    {
      "cell_type": "code",
      "source": [
        "text = str(input('texto:'))\n",
        "\n",
        "predict_sentiment(text, model, tokenizer, vocab, device)"
      ],
      "metadata": {
        "colab": {
          "base_uri": "https://localhost:8080/"
        },
        "id": "TxZcLqCZ5RSf",
        "outputId": "60583a32-5726-494c-f688-12b43a8bf840"
      },
      "id": "TxZcLqCZ5RSf",
      "execution_count": null,
      "outputs": [
        {
          "output_type": "stream",
          "name": "stdout",
          "text": [
            "texto:hola\n",
            "ERROR: \n",
            "There isn't enough vocabulary to predict that text... sorry :( \n",
            "We will improve it ;)\n"
          ]
        }
      ]
    },
    {
      "cell_type": "markdown",
      "source": [
        "# Conclusiones\n",
        "\n",
        "Si volviera a hacer este proyecto:\n",
        "\n",
        "-  Elegiría un dataset más amplio que solo tuviera sentimientos negativos y positivos para poder tener un modelo más preciso y añadir el sentimiento neutro con umbrales, donde si la diferencia de probabilidad de los sentimientos es menor que 40% (30-70 → 40-60 es < 40 %) entonces el resultado fuese el sentimiento neutro. Además, creo que este dataset no era el más adecuado y me ha limitado en la precisión del modelo.\n",
        "\n",
        "- Me hubiera centrado en mantener el formato correcto de los datos ya que he tenido que convertirlos justo antes de crear los modelos de entrenamiento, validez y prueba.\n",
        "\n",
        "También me hubiera gustado implementar un traductor de manera que el texto del que quieres predecir el sentimiento fuera de cualquier idioma y lo tradujese al inglés para predecirlo."
      ],
      "metadata": {
        "id": "GYwymhQrKh9X"
      },
      "id": "GYwymhQrKh9X"
    },
    {
      "cell_type": "code",
      "source": [],
      "metadata": {
        "id": "6In_sIZiPl7-"
      },
      "id": "6In_sIZiPl7-",
      "execution_count": null,
      "outputs": []
    }
  ],
  "metadata": {
    "kernelspec": {
      "display_name": "Python 3",
      "language": "python",
      "name": "python3"
    },
    "language_info": {
      "codemirror_mode": {
        "name": "ipython",
        "version": 3
      },
      "file_extension": ".py",
      "mimetype": "text/x-python",
      "name": "python",
      "nbconvert_exporter": "python",
      "pygments_lexer": "ipython3",
      "version": "3.9.5"
    },
    "colab": {
      "provenance": []
    }
  },
  "nbformat": 4,
  "nbformat_minor": 5
}